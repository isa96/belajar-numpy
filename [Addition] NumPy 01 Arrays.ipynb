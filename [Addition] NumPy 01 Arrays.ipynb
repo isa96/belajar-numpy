{
  "nbformat": 4,
  "nbformat_minor": 0,
  "metadata": {
    "colab": {
      "name": "[Addition] NumPy 01 Arrays.ipynb",
      "provenance": [],
      "collapsed_sections": []
    },
    "kernelspec": {
      "display_name": "Python 3",
      "language": "python",
      "name": "python3"
    },
    "language_info": {
      "codemirror_mode": {
        "name": "ipython",
        "version": 3
      },
      "file_extension": ".py",
      "mimetype": "text/x-python",
      "name": "python",
      "nbconvert_exporter": "python",
      "pygments_lexer": "ipython3",
      "version": "3.7.4"
    },
    "varInspector": {
      "cols": {
        "lenName": 16,
        "lenType": 16,
        "lenVar": 40
      },
      "kernels_config": {
        "python": {
          "delete_cmd_postfix": "",
          "delete_cmd_prefix": "del ",
          "library": "var_list.py",
          "varRefreshCmd": "print(var_dic_list())"
        },
        "r": {
          "delete_cmd_postfix": ") ",
          "delete_cmd_prefix": "rm(",
          "library": "var_list.r",
          "varRefreshCmd": "cat(var_dic_list()) "
        }
      },
      "types_to_exclude": [
        "module",
        "function",
        "builtin_function_or_method",
        "instance",
        "_Feature"
      ],
      "window_display": false
    }
  },
  "cells": [
    {
      "cell_type": "markdown",
      "metadata": {
        "id": "PvTJlTyOGbn5"
      },
      "source": [
        "<a href=\"https://colab.research.google.com/github/nurimammasri/Wooky-Numpy/blob/main/%5BAddition%5D%20NumPy%2001%20Arrays.ipynb\" target=\"_parent\"><img src=\"https://colab.research.google.com/assets/colab-badge.svg\" alt=\"Open In Colab\"/></a>"
      ]
    },
    {
      "cell_type": "markdown",
      "metadata": {
        "id": "cNHzM2-PM9kX"
      },
      "source": [
        "# Python Libraries - NumPy\n",
        "---"
      ]
    },
    {
      "cell_type": "markdown",
      "metadata": {
        "id": "e4I7XrTGp2cw"
      },
      "source": [
        "# Table Of Content\n",
        "\n",
        "- [Installation](##Installation)\n",
        "- [Introduction](#NumPy:-Numeric-computing-library)\n",
        "    - What is numpy\n",
        "    - Performance comparison with Python list\n",
        "- [Numpy Array](#Numpy-Arrays)\n",
        "    - Creating numpy array from list\n",
        "    - Creating numpy array with built-in methods\n",
        "- [Array Attributes and Methods](#Array-Attributes-and-Methods)\n",
        "- [Dimensions and Shapes](#Dimensions-and-Shapes)"
      ]
    },
    {
      "cell_type": "markdown",
      "metadata": {
        "id": "78TtDe3RM9kZ"
      },
      "source": [
        "## Installation\n",
        "\n",
        "* **Through Anaconda Naviagtor**\n",
        "\n",
        "* **Through conda prompt**\n",
        "    * **Conda Install**\n",
        "            >>conda install <libName/pkgName>\n",
        "    * **Pip Install**\n",
        "            >>python -m pip install jupyter_contrib_nbextensions --user\n",
        "            >>jupyter contrib nbextension install --user\n",
        "            >>jupyter nbextension enable varInspector/main\n",
        "\n",
        "            >>pip install SomePackage==1.0.4    # specific version"
      ]
    },
    {
      "cell_type": "markdown",
      "metadata": {
        "id": "f-hqvbfYM9kc"
      },
      "source": [
        "### Installation Instructions\n",
        "\n",
        "**It is highly recommended you install Python using the Anaconda distribution to make sure all underlying dependencies (such as Linear Algebra libraries) all sync up with the use of a conda install. If you have Anaconda, install NumPy by going to your terminal or command prompt and typing:**\n",
        "    \n",
        "    conda install numpy\n",
        "    \n",
        "**If you do not have Anaconda and can not install it, please refer to [Numpy's official documentation on various installation instructions.](http://docs.scipy.org/doc/numpy-1.10.1/user/install.html)**"
      ]
    },
    {
      "cell_type": "code",
      "metadata": {
        "id": "SaA-vtAbM9ka"
      },
      "source": [
        "#!pip install --user --upgrade pixiedust\n",
        "#import pix## Installation Instructions"
      ],
      "execution_count": 1,
      "outputs": []
    },
    {
      "cell_type": "markdown",
      "metadata": {
        "id": "oqnw9Rd6M9kb"
      },
      "source": [
        "---\n",
        "<img src=\"https://user-images.githubusercontent.com/7065401/39118381-910eb0c2-46e9-11e8-81f1-a5b897401c23.jpeg\"\n",
        "    style=\"width:300px; float: right; margin: 0 40px 40px 40px;\"></img>\n",
        "\n",
        "# NumPy: Numeric computing library\n",
        "\n",
        "NumPy (or Numpy) is a Linear Algebra Library for Python, the reason it is so important for Data Science with Python is that almost all of the libraries in the PyData Ecosystem rely on NumPy as one of their main building blocks.\n",
        "\n",
        "Numpy is also **incredibly fast**, as it has bindings to C libraries. For more info on why you would want to use Arrays instead of lists, check out this great [StackOverflow post](http://stackoverflow.com/questions/993984/why-numpy-instead-of-python-lists).\n",
        "\n",
        "We will only learn the basics of NumPy, to get started we need to install it!\n",
        "\n",
        "[Back to top](#Table-Of-Content)"
      ]
    },
    {
      "cell_type": "markdown",
      "metadata": {
        "id": "Qyf9zG8mM9kc"
      },
      "source": [
        "## Using NumPy\n",
        "\n",
        "Once you've installed NumPy you can import it as a library:"
      ]
    },
    {
      "cell_type": "code",
      "metadata": {
        "id": "1PNILIMhM9kd"
      },
      "source": [
        "#Purpose of program\n",
        "import numpy as np\n",
        "import pandas as pd"
      ],
      "execution_count": 2,
      "outputs": []
    },
    {
      "cell_type": "markdown",
      "metadata": {
        "id": "AkNUtt7np2dE"
      },
      "source": [
        "## List and Array Performance Comparison\n",
        "\n",
        "Before we jump in, let's check list and array computation time"
      ]
    },
    {
      "cell_type": "code",
      "metadata": {
        "id": "8CqZBi6fp2dG"
      },
      "source": [
        "l = list(range(100000))"
      ],
      "execution_count": 3,
      "outputs": []
    },
    {
      "cell_type": "code",
      "metadata": {
        "id": "HUj6N-ZNp2dH"
      },
      "source": [
        "a = np.arange(100000)"
      ],
      "execution_count": 4,
      "outputs": []
    },
    {
      "cell_type": "code",
      "metadata": {
        "scrolled": true,
        "colab": {
          "base_uri": "https://localhost:8080/"
        },
        "id": "3XXLDQzZp2dJ",
        "outputId": "7cc16aca-efbc-46d8-b206-369f685bc620"
      },
      "source": [
        "%time np.sum(a ** 2)"
      ],
      "execution_count": 5,
      "outputs": [
        {
          "output_type": "stream",
          "name": "stdout",
          "text": [
            "CPU times: user 538 µs, sys: 926 µs, total: 1.46 ms\n",
            "Wall time: 5.49 ms\n"
          ]
        },
        {
          "output_type": "execute_result",
          "data": {
            "text/plain": [
              "333328333350000"
            ]
          },
          "metadata": {},
          "execution_count": 5
        }
      ]
    },
    {
      "cell_type": "code",
      "metadata": {
        "scrolled": true,
        "colab": {
          "base_uri": "https://localhost:8080/"
        },
        "id": "7heefpr3p2dO",
        "outputId": "a010df29-3fe0-4425-b68b-e35275543068"
      },
      "source": [
        "%time sum([x ** 2 for x in l])"
      ],
      "execution_count": 6,
      "outputs": [
        {
          "output_type": "stream",
          "name": "stdout",
          "text": [
            "CPU times: user 36.5 ms, sys: 4.37 ms, total: 40.8 ms\n",
            "Wall time: 42.2 ms\n"
          ]
        },
        {
          "output_type": "execute_result",
          "data": {
            "text/plain": [
              "333328333350000"
            ]
          },
          "metadata": {},
          "execution_count": 6
        }
      ]
    },
    {
      "cell_type": "markdown",
      "metadata": {
        "id": "9pgmH2gbM9kd"
      },
      "source": [
        "---\n",
        "Numpy has many built-in functions and capabilities. We won't cover them all but instead we will focus on some of the most important aspects of Numpy: vectors,arrays,matrices, and number generation. Let's start by discussing arrays.\n",
        "\n",
        "# Numpy Arrays\n",
        "\n",
        "NumPy arrays are the main way we will use Numpy throughout the course. Numpy arrays essentially come in two flavors: vectors and matrices. Vectors are strictly 1-d arrays and matrices are 2-d (but you should note a matrix can still have only one row or one column).\n",
        "\n",
        "Let's begin our introduction by exploring how to create NumPy arrays.\n",
        "\n",
        "[Back to top](#Table-Of-Content)\n",
        "\n",
        "## Creating NumPy Arrays\n",
        "\n",
        "### From a Python List\n",
        "\n",
        "We can create an array by directly converting a list or list of lists:"
      ]
    },
    {
      "cell_type": "code",
      "metadata": {
        "id": "xCt3Q56rM9ke",
        "colab": {
          "base_uri": "https://localhost:8080/"
        },
        "outputId": "f9334fa3-e26d-44c2-d364-29793f7546be"
      },
      "source": [
        "my_list = [1,2,3]\n",
        "my_list"
      ],
      "execution_count": 7,
      "outputs": [
        {
          "output_type": "execute_result",
          "data": {
            "text/plain": [
              "[1, 2, 3]"
            ]
          },
          "metadata": {},
          "execution_count": 7
        }
      ]
    },
    {
      "cell_type": "code",
      "metadata": {
        "id": "ua-3YLycM9ke",
        "colab": {
          "base_uri": "https://localhost:8080/"
        },
        "outputId": "5dabf8f0-bedc-452d-8ac3-a08db0cbc69e"
      },
      "source": [
        "np.array(my_list)"
      ],
      "execution_count": 8,
      "outputs": [
        {
          "output_type": "execute_result",
          "data": {
            "text/plain": [
              "array([1, 2, 3])"
            ]
          },
          "metadata": {},
          "execution_count": 8
        }
      ]
    },
    {
      "cell_type": "code",
      "metadata": {
        "id": "6P6QscfvM9ke",
        "colab": {
          "base_uri": "https://localhost:8080/"
        },
        "outputId": "ff8ac07a-efc7-4262-fbcc-ec381ed91d7e"
      },
      "source": [
        "my_matrix = [[1,2,3],[4,5,6],[7,8,9]]\n",
        "my_matrix"
      ],
      "execution_count": 9,
      "outputs": [
        {
          "output_type": "execute_result",
          "data": {
            "text/plain": [
              "[[1, 2, 3], [4, 5, 6], [7, 8, 9]]"
            ]
          },
          "metadata": {},
          "execution_count": 9
        }
      ]
    },
    {
      "cell_type": "code",
      "metadata": {
        "id": "P4Ok_WLSM9kf",
        "colab": {
          "base_uri": "https://localhost:8080/"
        },
        "outputId": "a90c1863-7ae7-45d6-f1fa-ea548bc6eda4"
      },
      "source": [
        "my_matrix*2"
      ],
      "execution_count": 10,
      "outputs": [
        {
          "output_type": "execute_result",
          "data": {
            "text/plain": [
              "[[1, 2, 3], [4, 5, 6], [7, 8, 9], [1, 2, 3], [4, 5, 6], [7, 8, 9]]"
            ]
          },
          "metadata": {},
          "execution_count": 10
        }
      ]
    },
    {
      "cell_type": "code",
      "metadata": {
        "id": "XWnWQy-zM9kf",
        "colab": {
          "base_uri": "https://localhost:8080/"
        },
        "outputId": "3fa681f3-fc21-43ba-bbcd-b1a59ae24803"
      },
      "source": [
        "np.array(my_matrix)"
      ],
      "execution_count": 11,
      "outputs": [
        {
          "output_type": "execute_result",
          "data": {
            "text/plain": [
              "array([[1, 2, 3],\n",
              "       [4, 5, 6],\n",
              "       [7, 8, 9]])"
            ]
          },
          "metadata": {},
          "execution_count": 11
        }
      ]
    },
    {
      "cell_type": "code",
      "metadata": {
        "id": "F4S7MwnUM9kf",
        "colab": {
          "base_uri": "https://localhost:8080/"
        },
        "outputId": "f41a8694-128a-4f84-9e2e-c9ac1b2df1a6"
      },
      "source": [
        "np.array(my_matrix)*2"
      ],
      "execution_count": 12,
      "outputs": [
        {
          "output_type": "execute_result",
          "data": {
            "text/plain": [
              "array([[ 2,  4,  6],\n",
              "       [ 8, 10, 12],\n",
              "       [14, 16, 18]])"
            ]
          },
          "metadata": {},
          "execution_count": 12
        }
      ]
    },
    {
      "cell_type": "markdown",
      "metadata": {
        "id": "TbJ0SeoWM9kl"
      },
      "source": [
        "### `dtype`\n",
        "\n",
        "Data Types in Python\n",
        "By default Python have these data types:\n",
        "\n",
        "* strings - used to represent text data, the text is given under quote marks. e.g. \"ABCD\"\n",
        "* integer - used to represent integer numbers. e.g. -1, -2, -3\n",
        "* float - used to represent real numbers. e.g. 1.2, 42.42\n",
        "* boolean - used to represent True or False.\n",
        "* complex - used to represent complex numbers. e.g. 1.0 + 2.0j, 1.5 + 2.5j\n",
        "\n",
        "Data Types in NumPy\n",
        "\n",
        "NumPy has some extra data types, and refer to data types with one character, like i for integers, u for unsigned integers etc.\n",
        "\n",
        "Below is a list of all data types in NumPy and the characters used to represent them.\n",
        "\n",
        "* i - integer\n",
        "* b - boolean\n",
        "* u - unsigned integer\n",
        "* f - float\n",
        "* c - complex float\n",
        "* m - timedelta\n",
        "* M - datetime\n",
        "* O - object\n",
        "* S - string\n",
        "* U - unicode string\n",
        "* V - fixed chunk of memory for other type ( void )\n",
        "\n",
        "You can also grab the data type of the object in the array:"
      ]
    },
    {
      "cell_type": "code",
      "metadata": {
        "id": "Sdn7ZmQbM9kl",
        "colab": {
          "base_uri": "https://localhost:8080/"
        },
        "outputId": "c941cc72-e4f4-4789-8493-384bdbe86fc5"
      },
      "source": [
        "np.array(my_matrix).dtype"
      ],
      "execution_count": 13,
      "outputs": [
        {
          "output_type": "execute_result",
          "data": {
            "text/plain": [
              "dtype('int64')"
            ]
          },
          "metadata": {},
          "execution_count": 13
        }
      ]
    },
    {
      "cell_type": "markdown",
      "metadata": {
        "id": "uP2S4Qf3M9kg"
      },
      "source": [
        "### Built-in Methods\n",
        "\n",
        "There are lots of built-in ways to generate Arrays"
      ]
    },
    {
      "cell_type": "markdown",
      "metadata": {
        "id": "0uoYzlRBM9kg"
      },
      "source": [
        "### `arange`\n",
        "\n",
        "Return evenly spaced values within a given interval."
      ]
    },
    {
      "cell_type": "code",
      "metadata": {
        "id": "BkS-unONM9kg",
        "colab": {
          "base_uri": "https://localhost:8080/"
        },
        "outputId": "28fb3111-91d7-4dad-f64a-942bbef8fa04"
      },
      "source": [
        "np.arange(0,10)"
      ],
      "execution_count": 14,
      "outputs": [
        {
          "output_type": "execute_result",
          "data": {
            "text/plain": [
              "array([0, 1, 2, 3, 4, 5, 6, 7, 8, 9])"
            ]
          },
          "metadata": {},
          "execution_count": 14
        }
      ]
    },
    {
      "cell_type": "code",
      "metadata": {
        "id": "SS7QmOH1M9kg",
        "colab": {
          "base_uri": "https://localhost:8080/"
        },
        "outputId": "8ce098ea-82ea-49c0-b2af-c8bb9b584949"
      },
      "source": [
        "np.arange(0,11,2)"
      ],
      "execution_count": 15,
      "outputs": [
        {
          "output_type": "execute_result",
          "data": {
            "text/plain": [
              "array([ 0,  2,  4,  6,  8, 10])"
            ]
          },
          "metadata": {},
          "execution_count": 15
        }
      ]
    },
    {
      "cell_type": "markdown",
      "metadata": {
        "id": "7P_V9kt7M9kg"
      },
      "source": [
        "### `zeros` and `ones`\n",
        "\n",
        "Generate arrays of zeros or ones"
      ]
    },
    {
      "cell_type": "code",
      "metadata": {
        "id": "RIT3RFb6M9kh",
        "colab": {
          "base_uri": "https://localhost:8080/"
        },
        "outputId": "2e00ca90-d8f4-4b2e-c735-2beaac4dcdda"
      },
      "source": [
        "np.zeros(3)"
      ],
      "execution_count": 16,
      "outputs": [
        {
          "output_type": "execute_result",
          "data": {
            "text/plain": [
              "array([0., 0., 0.])"
            ]
          },
          "metadata": {},
          "execution_count": 16
        }
      ]
    },
    {
      "cell_type": "code",
      "metadata": {
        "id": "AnfMTB7vM9kh",
        "colab": {
          "base_uri": "https://localhost:8080/"
        },
        "outputId": "292b2346-5197-44a4-c93d-d7e83f47541a"
      },
      "source": [
        "np.zeros((5,3))"
      ],
      "execution_count": 17,
      "outputs": [
        {
          "output_type": "execute_result",
          "data": {
            "text/plain": [
              "array([[0., 0., 0.],\n",
              "       [0., 0., 0.],\n",
              "       [0., 0., 0.],\n",
              "       [0., 0., 0.],\n",
              "       [0., 0., 0.]])"
            ]
          },
          "metadata": {},
          "execution_count": 17
        }
      ]
    },
    {
      "cell_type": "code",
      "metadata": {
        "id": "cuQfXrPaM9kh",
        "colab": {
          "base_uri": "https://localhost:8080/"
        },
        "outputId": "9109de2f-79bf-4efd-e997-d9c769c4671c"
      },
      "source": [
        "np.ones(3)"
      ],
      "execution_count": 18,
      "outputs": [
        {
          "output_type": "execute_result",
          "data": {
            "text/plain": [
              "array([1., 1., 1.])"
            ]
          },
          "metadata": {},
          "execution_count": 18
        }
      ]
    },
    {
      "cell_type": "code",
      "metadata": {
        "id": "mC5Ytt90M9kh",
        "colab": {
          "base_uri": "https://localhost:8080/"
        },
        "outputId": "22250698-a9b3-459b-d277-4abba6829a25"
      },
      "source": [
        "np.ones((3,3))"
      ],
      "execution_count": 19,
      "outputs": [
        {
          "output_type": "execute_result",
          "data": {
            "text/plain": [
              "array([[1., 1., 1.],\n",
              "       [1., 1., 1.],\n",
              "       [1., 1., 1.]])"
            ]
          },
          "metadata": {},
          "execution_count": 19
        }
      ]
    },
    {
      "cell_type": "markdown",
      "metadata": {
        "id": "qiayrZVpM9kh"
      },
      "source": [
        "### `linspace`\n",
        "Return evenly spaced numbers over a specified interval."
      ]
    },
    {
      "cell_type": "code",
      "metadata": {
        "id": "19jceP4SM9kh",
        "colab": {
          "base_uri": "https://localhost:8080/"
        },
        "outputId": "dc3598b3-c14c-47ef-dd02-40f878132139"
      },
      "source": [
        "np.linspace(0,10,3)"
      ],
      "execution_count": 20,
      "outputs": [
        {
          "output_type": "execute_result",
          "data": {
            "text/plain": [
              "array([ 0.,  5., 10.])"
            ]
          },
          "metadata": {},
          "execution_count": 20
        }
      ]
    },
    {
      "cell_type": "code",
      "metadata": {
        "id": "nb9Vp4NNM9ki",
        "colab": {
          "base_uri": "https://localhost:8080/"
        },
        "outputId": "13f159f0-1405-4ab6-b9a0-14c1ed92b83a"
      },
      "source": [
        "np.linspace(0,10,100)"
      ],
      "execution_count": 21,
      "outputs": [
        {
          "output_type": "execute_result",
          "data": {
            "text/plain": [
              "array([ 0.        ,  0.1010101 ,  0.2020202 ,  0.3030303 ,  0.4040404 ,\n",
              "        0.50505051,  0.60606061,  0.70707071,  0.80808081,  0.90909091,\n",
              "        1.01010101,  1.11111111,  1.21212121,  1.31313131,  1.41414141,\n",
              "        1.51515152,  1.61616162,  1.71717172,  1.81818182,  1.91919192,\n",
              "        2.02020202,  2.12121212,  2.22222222,  2.32323232,  2.42424242,\n",
              "        2.52525253,  2.62626263,  2.72727273,  2.82828283,  2.92929293,\n",
              "        3.03030303,  3.13131313,  3.23232323,  3.33333333,  3.43434343,\n",
              "        3.53535354,  3.63636364,  3.73737374,  3.83838384,  3.93939394,\n",
              "        4.04040404,  4.14141414,  4.24242424,  4.34343434,  4.44444444,\n",
              "        4.54545455,  4.64646465,  4.74747475,  4.84848485,  4.94949495,\n",
              "        5.05050505,  5.15151515,  5.25252525,  5.35353535,  5.45454545,\n",
              "        5.55555556,  5.65656566,  5.75757576,  5.85858586,  5.95959596,\n",
              "        6.06060606,  6.16161616,  6.26262626,  6.36363636,  6.46464646,\n",
              "        6.56565657,  6.66666667,  6.76767677,  6.86868687,  6.96969697,\n",
              "        7.07070707,  7.17171717,  7.27272727,  7.37373737,  7.47474747,\n",
              "        7.57575758,  7.67676768,  7.77777778,  7.87878788,  7.97979798,\n",
              "        8.08080808,  8.18181818,  8.28282828,  8.38383838,  8.48484848,\n",
              "        8.58585859,  8.68686869,  8.78787879,  8.88888889,  8.98989899,\n",
              "        9.09090909,  9.19191919,  9.29292929,  9.39393939,  9.49494949,\n",
              "        9.5959596 ,  9.6969697 ,  9.7979798 ,  9.8989899 , 10.        ])"
            ]
          },
          "metadata": {},
          "execution_count": 21
        }
      ]
    },
    {
      "cell_type": "markdown",
      "metadata": {
        "id": "wHOACeJSM9ki"
      },
      "source": [
        "## `eye`\n",
        "\n",
        "Creates an identity matrix"
      ]
    },
    {
      "cell_type": "code",
      "metadata": {
        "id": "YsHwabnUM9ki",
        "colab": {
          "base_uri": "https://localhost:8080/"
        },
        "outputId": "e7d0162a-dbb7-4e10-d1df-417022437b2f"
      },
      "source": [
        "np.eye(3)"
      ],
      "execution_count": 22,
      "outputs": [
        {
          "output_type": "execute_result",
          "data": {
            "text/plain": [
              "array([[1., 0., 0.],\n",
              "       [0., 1., 0.],\n",
              "       [0., 0., 1.]])"
            ]
          },
          "metadata": {},
          "execution_count": 22
        }
      ]
    },
    {
      "cell_type": "markdown",
      "metadata": {
        "id": "XY43mdEZM9ki"
      },
      "source": [
        "## Random \n",
        "\n",
        "Numpy also has lots of ways to create random number arrays:\n",
        "\n",
        "### `rand`\n",
        "Create an array of the given shape and populate it with\n",
        "random samples from a uniform distribution\n",
        "over ``[0, 1]``."
      ]
    },
    {
      "cell_type": "code",
      "metadata": {
        "id": "kqPksostM9ki",
        "colab": {
          "base_uri": "https://localhost:8080/"
        },
        "outputId": "202f03ac-993b-40e1-a1ef-9517030568ea"
      },
      "source": [
        "np.random.rand(2)"
      ],
      "execution_count": 23,
      "outputs": [
        {
          "output_type": "execute_result",
          "data": {
            "text/plain": [
              "array([0.07272433, 0.79216679])"
            ]
          },
          "metadata": {},
          "execution_count": 23
        }
      ]
    },
    {
      "cell_type": "code",
      "metadata": {
        "id": "4-QuXqkSM9ki",
        "colab": {
          "base_uri": "https://localhost:8080/"
        },
        "outputId": "a498382c-fe72-45c9-a120-ad8d6a42da79"
      },
      "source": [
        "np.random.rand(5,5)"
      ],
      "execution_count": 24,
      "outputs": [
        {
          "output_type": "execute_result",
          "data": {
            "text/plain": [
              "array([[0.54572929, 0.53629384, 0.37511398, 0.54133327, 0.89020261],\n",
              "       [0.91582025, 0.28129232, 0.706866  , 0.06522363, 0.66038909],\n",
              "       [0.04742013, 0.54208464, 0.56225522, 0.36264356, 0.89467464],\n",
              "       [0.81299039, 0.46023776, 0.9734279 , 0.98704511, 0.55260992],\n",
              "       [0.80448295, 0.80536231, 0.24718134, 0.0030294 , 0.81131345]])"
            ]
          },
          "metadata": {},
          "execution_count": 24
        }
      ]
    },
    {
      "cell_type": "markdown",
      "metadata": {
        "id": "fXz6UGG5M9ki"
      },
      "source": [
        "### `randn`\n",
        "\n",
        "Return a sample (or samples) from the \"standard normal\" distribution. Unlike rand which is uniform:"
      ]
    },
    {
      "cell_type": "code",
      "metadata": {
        "id": "9Gme8ysVM9ki",
        "colab": {
          "base_uri": "https://localhost:8080/"
        },
        "outputId": "df1af6ae-7e83-418a-ed31-9122d12ec4cc"
      },
      "source": [
        "np.random.randn(2)"
      ],
      "execution_count": 25,
      "outputs": [
        {
          "output_type": "execute_result",
          "data": {
            "text/plain": [
              "array([-0.81699469,  1.96272431])"
            ]
          },
          "metadata": {},
          "execution_count": 25
        }
      ]
    },
    {
      "cell_type": "code",
      "metadata": {
        "id": "5Ql5Fa0OM9kj",
        "colab": {
          "base_uri": "https://localhost:8080/"
        },
        "outputId": "d2d87aff-cfb2-4c3e-85cd-824d6c3ff7df"
      },
      "source": [
        "np.random.randn(5,5)"
      ],
      "execution_count": 26,
      "outputs": [
        {
          "output_type": "execute_result",
          "data": {
            "text/plain": [
              "array([[ 0.41705375, -0.70263369, -2.5296108 ,  0.68577945,  0.96001264],\n",
              "       [-0.96988654, -1.8447626 ,  0.50968453, -1.56254033,  1.0086461 ],\n",
              "       [ 1.24675028,  0.79696456, -0.62654136, -0.30512687,  0.15651383],\n",
              "       [ 2.06564185,  0.4186536 , -0.28038946,  1.74420042,  0.04246886],\n",
              "       [ 0.00428248, -0.37077574, -0.54271966, -0.45187693,  1.73003009]])"
            ]
          },
          "metadata": {},
          "execution_count": 26
        }
      ]
    },
    {
      "cell_type": "markdown",
      "metadata": {
        "id": "w8g4AHlAM9kj"
      },
      "source": [
        "### `randint`\n",
        "Return random integers from `low` (inclusive) to `high` (exclusive)."
      ]
    },
    {
      "cell_type": "code",
      "metadata": {
        "id": "fSpjjN2yM9kj",
        "colab": {
          "base_uri": "https://localhost:8080/"
        },
        "outputId": "08448760-c785-4208-ad2f-496bfd6a9134"
      },
      "source": [
        "np.random.randint(1,100)"
      ],
      "execution_count": 27,
      "outputs": [
        {
          "output_type": "execute_result",
          "data": {
            "text/plain": [
              "16"
            ]
          },
          "metadata": {},
          "execution_count": 27
        }
      ]
    },
    {
      "cell_type": "code",
      "metadata": {
        "id": "w_IJi4XUM9kj",
        "colab": {
          "base_uri": "https://localhost:8080/"
        },
        "outputId": "355c96dd-4af4-431a-d8dc-106caeb209a4"
      },
      "source": [
        "np.random.randint(1,100,10)"
      ],
      "execution_count": 28,
      "outputs": [
        {
          "output_type": "execute_result",
          "data": {
            "text/plain": [
              "array([97, 92, 36, 99, 95, 28, 14, 82,  9, 73])"
            ]
          },
          "metadata": {},
          "execution_count": 28
        }
      ]
    },
    {
      "cell_type": "markdown",
      "metadata": {
        "id": "PxEz0t-vp2d7"
      },
      "source": [
        "# QnA"
      ]
    },
    {
      "cell_type": "markdown",
      "metadata": {
        "id": "kVJoEo_CM9kj"
      },
      "source": [
        "---\n",
        "# Array Attributes and Methods\n",
        "\n",
        "Let's discuss some useful attributes and methods or an array\n",
        "\n",
        "[Back to top](#Table-Of-Content)"
      ]
    },
    {
      "cell_type": "code",
      "metadata": {
        "id": "HfuaLA2HM9kj"
      },
      "source": [
        "arr = np.arange(25)\n",
        "ranarr = np.random.randint(0,50,10)"
      ],
      "execution_count": 29,
      "outputs": []
    },
    {
      "cell_type": "code",
      "metadata": {
        "id": "HBmV8CjBM9kj",
        "colab": {
          "base_uri": "https://localhost:8080/"
        },
        "outputId": "9151317f-eec0-44b2-9a5f-ecfc481c106d"
      },
      "source": [
        "arr"
      ],
      "execution_count": 30,
      "outputs": [
        {
          "output_type": "execute_result",
          "data": {
            "text/plain": [
              "array([ 0,  1,  2,  3,  4,  5,  6,  7,  8,  9, 10, 11, 12, 13, 14, 15, 16,\n",
              "       17, 18, 19, 20, 21, 22, 23, 24])"
            ]
          },
          "metadata": {},
          "execution_count": 30
        }
      ]
    },
    {
      "cell_type": "code",
      "metadata": {
        "id": "Esp3Yp57M9kj",
        "colab": {
          "base_uri": "https://localhost:8080/"
        },
        "outputId": "c83c6b74-4d26-4517-9d22-3a326374cac2"
      },
      "source": [
        "ranarr"
      ],
      "execution_count": 31,
      "outputs": [
        {
          "output_type": "execute_result",
          "data": {
            "text/plain": [
              "array([ 4, 28, 33, 19, 46, 42, 15, 29, 40, 18])"
            ]
          },
          "metadata": {},
          "execution_count": 31
        }
      ]
    },
    {
      "cell_type": "markdown",
      "metadata": {
        "id": "FqUMdo-BM9kk"
      },
      "source": [
        "### `reshape`\n",
        "Returns an array containing the same data with a new shape."
      ]
    },
    {
      "cell_type": "code",
      "metadata": {
        "id": "Rhii-3rAM9kk",
        "colab": {
          "base_uri": "https://localhost:8080/"
        },
        "outputId": "7c255d01-b9e2-4fbf-b007-fcfeb8cf4a4d"
      },
      "source": [
        "arr.reshape(5,5)"
      ],
      "execution_count": 32,
      "outputs": [
        {
          "output_type": "execute_result",
          "data": {
            "text/plain": [
              "array([[ 0,  1,  2,  3,  4],\n",
              "       [ 5,  6,  7,  8,  9],\n",
              "       [10, 11, 12, 13, 14],\n",
              "       [15, 16, 17, 18, 19],\n",
              "       [20, 21, 22, 23, 24]])"
            ]
          },
          "metadata": {},
          "execution_count": 32
        }
      ]
    },
    {
      "cell_type": "markdown",
      "metadata": {
        "id": "DMMAerR3M9kk"
      },
      "source": [
        "### `max`, `min`, `argmax`, `argmin`\n",
        "\n",
        "These are useful methods for finding max or min values. Or to find their index locations using argmin or argmax"
      ]
    },
    {
      "cell_type": "code",
      "metadata": {
        "id": "pKplegtLM9kk",
        "colab": {
          "base_uri": "https://localhost:8080/"
        },
        "outputId": "1746e22b-96fb-4ebb-9123-39e500063d1c"
      },
      "source": [
        "ranarr"
      ],
      "execution_count": 33,
      "outputs": [
        {
          "output_type": "execute_result",
          "data": {
            "text/plain": [
              "array([ 4, 28, 33, 19, 46, 42, 15, 29, 40, 18])"
            ]
          },
          "metadata": {},
          "execution_count": 33
        }
      ]
    },
    {
      "cell_type": "code",
      "metadata": {
        "id": "CzRVeZf1M9kk",
        "colab": {
          "base_uri": "https://localhost:8080/"
        },
        "outputId": "edf4212b-6706-44d0-df53-f7f96b933975"
      },
      "source": [
        "ranarr.max()"
      ],
      "execution_count": 34,
      "outputs": [
        {
          "output_type": "execute_result",
          "data": {
            "text/plain": [
              "46"
            ]
          },
          "metadata": {},
          "execution_count": 34
        }
      ]
    },
    {
      "cell_type": "code",
      "metadata": {
        "id": "XBLeSXiHM9kk",
        "colab": {
          "base_uri": "https://localhost:8080/"
        },
        "outputId": "ad9f7d58-2717-49c1-8feb-cf27d91aa16a"
      },
      "source": [
        "ranarr.argmax()"
      ],
      "execution_count": 35,
      "outputs": [
        {
          "output_type": "execute_result",
          "data": {
            "text/plain": [
              "4"
            ]
          },
          "metadata": {},
          "execution_count": 35
        }
      ]
    },
    {
      "cell_type": "code",
      "metadata": {
        "id": "A7fb45doM9kk",
        "colab": {
          "base_uri": "https://localhost:8080/"
        },
        "outputId": "ca45df6e-7680-4e30-f17d-8875ea4d11fc"
      },
      "source": [
        "ranarr.min()"
      ],
      "execution_count": 36,
      "outputs": [
        {
          "output_type": "execute_result",
          "data": {
            "text/plain": [
              "4"
            ]
          },
          "metadata": {},
          "execution_count": 36
        }
      ]
    },
    {
      "cell_type": "code",
      "metadata": {
        "id": "nsoBhhQ4M9kk",
        "colab": {
          "base_uri": "https://localhost:8080/"
        },
        "outputId": "adcf4f2c-086c-4dde-81d5-316cbdbc32f9"
      },
      "source": [
        "ranarr.argmin()"
      ],
      "execution_count": 37,
      "outputs": [
        {
          "output_type": "execute_result",
          "data": {
            "text/plain": [
              "0"
            ]
          },
          "metadata": {},
          "execution_count": 37
        }
      ]
    },
    {
      "cell_type": "markdown",
      "metadata": {
        "id": "m3gRU807M9kk"
      },
      "source": [
        "---\n",
        "# Dimensions and Shapes\n",
        "\n",
        "## `ndim`, `size`, and `shape`\n",
        "\n",
        "- Shape is an attribute that arrays have (not a method)\n",
        "- `ndim` returns the array dimension\n",
        "- `size` returns the number of elements in the array\n",
        "\n",
        "[Back to top](#Table-Of-Content)"
      ]
    },
    {
      "cell_type": "code",
      "metadata": {
        "id": "e2k2fRuBp2eP"
      },
      "source": [
        "A = np.array([\n",
        "    [1, 2, 3],\n",
        "    [4, 5, 6]\n",
        "])"
      ],
      "execution_count": 38,
      "outputs": []
    },
    {
      "cell_type": "code",
      "metadata": {
        "colab": {
          "base_uri": "https://localhost:8080/"
        },
        "id": "_8o12Yxgp2eQ",
        "outputId": "84deec57-1b4d-490e-dd67-75b225f1c91d"
      },
      "source": [
        "A.shape"
      ],
      "execution_count": 39,
      "outputs": [
        {
          "output_type": "execute_result",
          "data": {
            "text/plain": [
              "(2, 3)"
            ]
          },
          "metadata": {},
          "execution_count": 39
        }
      ]
    },
    {
      "cell_type": "code",
      "metadata": {
        "colab": {
          "base_uri": "https://localhost:8080/"
        },
        "id": "E1a4qx80p2eR",
        "outputId": "bff8e2ff-def9-43ee-8db8-a5751cbb1620"
      },
      "source": [
        "A.ndim"
      ],
      "execution_count": 40,
      "outputs": [
        {
          "output_type": "execute_result",
          "data": {
            "text/plain": [
              "2"
            ]
          },
          "metadata": {},
          "execution_count": 40
        }
      ]
    },
    {
      "cell_type": "code",
      "metadata": {
        "colab": {
          "base_uri": "https://localhost:8080/"
        },
        "id": "kJeBLaA9p2eT",
        "outputId": "3dd4c075-8094-4b5f-feb4-999c5a7bdf19"
      },
      "source": [
        "A.size"
      ],
      "execution_count": 41,
      "outputs": [
        {
          "output_type": "execute_result",
          "data": {
            "text/plain": [
              "6"
            ]
          },
          "metadata": {},
          "execution_count": 41
        }
      ]
    },
    {
      "cell_type": "code",
      "metadata": {
        "id": "-YUwojFUp2eU"
      },
      "source": [
        "B = np.array([\n",
        "    [\n",
        "        [12, 11, 10],\n",
        "        [9, 8, 7],\n",
        "    ],\n",
        "    [\n",
        "        [6, 5, 4],\n",
        "        [3, 2, 1]\n",
        "    ]\n",
        "])"
      ],
      "execution_count": 42,
      "outputs": []
    },
    {
      "cell_type": "code",
      "metadata": {
        "colab": {
          "base_uri": "https://localhost:8080/"
        },
        "id": "8p5C-u2hp2eV",
        "outputId": "9b78cd1a-3363-44c1-ac4c-ac5c5f4f52ad"
      },
      "source": [
        "B"
      ],
      "execution_count": 43,
      "outputs": [
        {
          "output_type": "execute_result",
          "data": {
            "text/plain": [
              "array([[[12, 11, 10],\n",
              "        [ 9,  8,  7]],\n",
              "\n",
              "       [[ 6,  5,  4],\n",
              "        [ 3,  2,  1]]])"
            ]
          },
          "metadata": {},
          "execution_count": 43
        }
      ]
    },
    {
      "cell_type": "code",
      "metadata": {
        "colab": {
          "base_uri": "https://localhost:8080/"
        },
        "id": "LMyIsgHhp2eW",
        "outputId": "918c229c-832a-420c-ae9f-0f1cb0a87cf0"
      },
      "source": [
        "B.shape"
      ],
      "execution_count": 44,
      "outputs": [
        {
          "output_type": "execute_result",
          "data": {
            "text/plain": [
              "(2, 2, 3)"
            ]
          },
          "metadata": {},
          "execution_count": 44
        }
      ]
    },
    {
      "cell_type": "code",
      "metadata": {
        "colab": {
          "base_uri": "https://localhost:8080/"
        },
        "id": "NuGGmttnp2eX",
        "outputId": "67ad6dd0-e816-457a-84cc-d5a2bb63fd5f"
      },
      "source": [
        "B.ndim"
      ],
      "execution_count": 45,
      "outputs": [
        {
          "output_type": "execute_result",
          "data": {
            "text/plain": [
              "3"
            ]
          },
          "metadata": {},
          "execution_count": 45
        }
      ]
    },
    {
      "cell_type": "code",
      "metadata": {
        "colab": {
          "base_uri": "https://localhost:8080/"
        },
        "id": "PR4IcBhYp2eY",
        "outputId": "aec951ea-c343-4cb6-b349-6150916dcb72"
      },
      "source": [
        "B.size"
      ],
      "execution_count": 46,
      "outputs": [
        {
          "output_type": "execute_result",
          "data": {
            "text/plain": [
              "12"
            ]
          },
          "metadata": {},
          "execution_count": 46
        }
      ]
    },
    {
      "cell_type": "markdown",
      "metadata": {
        "id": "enj4Rn8zp2eZ"
      },
      "source": [
        "If the shape isn't consistent, it'll just fall back to regular Python objects:"
      ]
    },
    {
      "cell_type": "code",
      "metadata": {
        "colab": {
          "base_uri": "https://localhost:8080/"
        },
        "id": "KtcjxNnMp2ea",
        "outputId": "5818caf1-92a0-4280-d433-35343fd6e4c3"
      },
      "source": [
        "C = np.array([\n",
        "    [\n",
        "        [12, 11, 10],\n",
        "        [9, 8, 7],\n",
        "    ],\n",
        "    [\n",
        "        [6, 5, 4]\n",
        "    ]\n",
        "])"
      ],
      "execution_count": 47,
      "outputs": [
        {
          "output_type": "stream",
          "name": "stderr",
          "text": [
            "/usr/local/lib/python3.7/dist-packages/ipykernel_launcher.py:7: VisibleDeprecationWarning: Creating an ndarray from ragged nested sequences (which is a list-or-tuple of lists-or-tuples-or ndarrays with different lengths or shapes) is deprecated. If you meant to do this, you must specify 'dtype=object' when creating the ndarray\n",
            "  import sys\n"
          ]
        }
      ]
    },
    {
      "cell_type": "code",
      "metadata": {
        "colab": {
          "base_uri": "https://localhost:8080/"
        },
        "id": "JBkqckU8p2eb",
        "outputId": "6277c8fe-13ce-4889-83af-053f4828f918"
      },
      "source": [
        "C.dtype"
      ],
      "execution_count": 48,
      "outputs": [
        {
          "output_type": "execute_result",
          "data": {
            "text/plain": [
              "dtype('O')"
            ]
          },
          "metadata": {},
          "execution_count": 48
        }
      ]
    },
    {
      "cell_type": "code",
      "metadata": {
        "colab": {
          "base_uri": "https://localhost:8080/"
        },
        "id": "O9VQZenGp2ec",
        "outputId": "79a5c68a-53fe-407d-a7a4-30625207f15b"
      },
      "source": [
        "C.shape"
      ],
      "execution_count": 49,
      "outputs": [
        {
          "output_type": "execute_result",
          "data": {
            "text/plain": [
              "(2,)"
            ]
          },
          "metadata": {},
          "execution_count": 49
        }
      ]
    },
    {
      "cell_type": "code",
      "metadata": {
        "colab": {
          "base_uri": "https://localhost:8080/"
        },
        "id": "hzG-8t7op2ed",
        "outputId": "63db9e39-23d2-4b8c-f446-dbab34b58c25"
      },
      "source": [
        "C.size"
      ],
      "execution_count": 50,
      "outputs": [
        {
          "output_type": "execute_result",
          "data": {
            "text/plain": [
              "2"
            ]
          },
          "metadata": {},
          "execution_count": 50
        }
      ]
    },
    {
      "cell_type": "code",
      "metadata": {
        "colab": {
          "base_uri": "https://localhost:8080/"
        },
        "id": "S5FbqbKPp2ee",
        "outputId": "04f0bc8c-92f3-43c8-9bcd-a6a6d61a8f75"
      },
      "source": [
        "type(C[0])"
      ],
      "execution_count": 51,
      "outputs": [
        {
          "output_type": "execute_result",
          "data": {
            "text/plain": [
              "list"
            ]
          },
          "metadata": {},
          "execution_count": 51
        }
      ]
    },
    {
      "cell_type": "code",
      "metadata": {
        "id": "3wPYm-ebM9kl"
      },
      "source": [
        ""
      ],
      "execution_count": 51,
      "outputs": []
    }
  ]
}