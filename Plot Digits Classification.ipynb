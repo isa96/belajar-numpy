{
  "nbformat": 4,
  "nbformat_minor": 0,
  "metadata": {
    "colab": {
      "name": "Plot Digits Classification.ipynb",
      "provenance": [],
      "collapsed_sections": []
    },
    "kernelspec": {
      "display_name": "Python 3",
      "language": "python",
      "name": "python3"
    }
  },
  "cells": [
    {
      "cell_type": "markdown",
      "metadata": {
        "id": "Aqf1xExOJtG4"
      },
      "source": [
        "<a href=\"https://colab.research.google.com/github/nurimammasri/Wooky-Numpy/blob/main/Plot%20Digits%20Classification.ipynb\" target=\"_parent\"><img src=\"https://colab.research.google.com/assets/colab-badge.svg\" alt=\"Open In Colab\"/></a>\n"
      ]
    },
    {
      "cell_type": "code",
      "metadata": {
        "id": "DdFr9HczLZ8o"
      },
      "source": [
        "%matplotlib inline"
      ],
      "execution_count": null,
      "outputs": []
    },
    {
      "cell_type": "markdown",
      "metadata": {
        "id": "jShp8JsqLZ8w"
      },
      "source": [
        "\n",
        "# Recognizing hand-written digits\n",
        "\n",
        "\n",
        "An example showing how the scikit-learn can be used to recognize images of\n",
        "hand-written digits.\n",
        "\n",
        "This example is commented in the\n",
        "`tutorial section of the user manual <introduction>`.\n",
        "\n",
        "\n"
      ]
    },
    {
      "cell_type": "code",
      "metadata": {
        "id": "y7Tc0YqALZ8x",
        "colab": {
          "base_uri": "https://localhost:8080/",
          "height": 857
        },
        "outputId": "cd2cee86-f012-417c-a0f5-5833bc14956e"
      },
      "source": [
        "print(__doc__)\n",
        "\n",
        "# Author: Gael Varoquaux <gael dot varoquaux at normalesup dot org>\n",
        "# License: BSD 3 clause\n",
        "\n",
        "# Standard scientific Python imports\n",
        "import matplotlib.pyplot as plt\n",
        "\n",
        "# Import datasets, classifiers and performance metrics\n",
        "from sklearn import datasets, svm, metrics\n",
        "\n",
        "# The digits dataset\n",
        "digits = datasets.load_digits()\n",
        "\n",
        "# The data that we are interested in is made of 8x8 images of digits, let's\n",
        "# have a look at the first 4 images, stored in the `images` attribute of the\n",
        "# dataset.  If we were working from image files, we could load them using\n",
        "# matplotlib.pyplot.imread.  Note that each image must have the same size. For these\n",
        "# images, we know which digit they represent: it is given in the 'target' of\n",
        "# the dataset.\n",
        "images_and_labels = list(zip(digits.images, digits.target))\n",
        "for index, (image, label) in enumerate(images_and_labels[:4]):\n",
        "    plt.subplot(2, 4, index + 1)\n",
        "    plt.axis('off')\n",
        "    plt.imshow(image, cmap=plt.cm.gray_r, interpolation='nearest')\n",
        "    plt.title('Training: %i' % label)\n",
        "\n",
        "# To apply a classifier on this data, we need to flatten the image, to\n",
        "# turn the data in a (samples, feature) matrix:\n",
        "n_samples = len(digits.images)\n",
        "data = digits.images.reshape((n_samples, -1))\n",
        "\n",
        "# Create a classifier: a support vector classifier\n",
        "classifier = svm.SVC(gamma=0.001)\n",
        "\n",
        "# We learn the digits on the first half of the digits\n",
        "classifier.fit(data[:n_samples // 2], digits.target[:n_samples // 2])\n",
        "\n",
        "# Now predict the value of the digit on the second half:\n",
        "expected = digits.target[n_samples // 2:]\n",
        "predicted = classifier.predict(data[n_samples // 2:])\n",
        "\n",
        "print(\"Classification report for classifier %s:\\n%s\\n\"\n",
        "      % (classifier, metrics.classification_report(expected, predicted)))\n",
        "print(\"Confusion matrix:\\n%s\" % metrics.confusion_matrix(expected, predicted))\n",
        "\n",
        "images_and_predictions = list(zip(digits.images[n_samples // 2:], predicted))\n",
        "for index, (image, prediction) in enumerate(images_and_predictions[:4]):\n",
        "    plt.subplot(2, 4, index + 5)\n",
        "    plt.axis('off')\n",
        "    plt.imshow(image, cmap=plt.cm.gray_r, interpolation='nearest')\n",
        "    plt.title('Prediction: %i' % prediction)\n",
        "\n",
        "plt.show()"
      ],
      "execution_count": null,
      "outputs": [
        {
          "output_type": "stream",
          "name": "stdout",
          "text": [
            "Automatically created module for IPython interactive environment\n",
            "Classification report for classifier SVC(C=1.0, break_ties=False, cache_size=200, class_weight=None, coef0=0.0,\n",
            "    decision_function_shape='ovr', degree=3, gamma=0.001, kernel='rbf',\n",
            "    max_iter=-1, probability=False, random_state=None, shrinking=True,\n",
            "    tol=0.001, verbose=False):\n",
            "              precision    recall  f1-score   support\n",
            "\n",
            "           0       1.00      0.99      0.99        88\n",
            "           1       0.99      0.97      0.98        91\n",
            "           2       0.99      0.99      0.99        86\n",
            "           3       0.98      0.87      0.92        91\n",
            "           4       0.99      0.96      0.97        92\n",
            "           5       0.95      0.97      0.96        91\n",
            "           6       0.99      0.99      0.99        91\n",
            "           7       0.96      0.99      0.97        89\n",
            "           8       0.94      1.00      0.97        88\n",
            "           9       0.93      0.98      0.95        92\n",
            "\n",
            "    accuracy                           0.97       899\n",
            "   macro avg       0.97      0.97      0.97       899\n",
            "weighted avg       0.97      0.97      0.97       899\n",
            "\n",
            "\n",
            "Confusion matrix:\n",
            "[[87  0  0  0  1  0  0  0  0  0]\n",
            " [ 0 88  1  0  0  0  0  0  1  1]\n",
            " [ 0  0 85  1  0  0  0  0  0  0]\n",
            " [ 0  0  0 79  0  3  0  4  5  0]\n",
            " [ 0  0  0  0 88  0  0  0  0  4]\n",
            " [ 0  0  0  0  0 88  1  0  0  2]\n",
            " [ 0  1  0  0  0  0 90  0  0  0]\n",
            " [ 0  0  0  0  0  1  0 88  0  0]\n",
            " [ 0  0  0  0  0  0  0  0 88  0]\n",
            " [ 0  0  0  1  0  1  0  0  0 90]]\n"
          ]
        },
        {
          "output_type": "display_data",
          "data": {
            "image/png": "[encoded data removed]",
            "text/plain": [
              "<Figure size 432x288 with 8 Axes>"
            ]
          },
          "metadata": {
            "needs_background": "light"
          }
        }
      ]
    },
    {
      "cell_type": "markdown",
      "metadata": {
        "id": "95XQTWUvUNhB"
      },
      "source": [
        "Di bawah ini akan dijelaskan masing-masing bagian dari kodenya."
      ]
    },
    {
      "cell_type": "markdown",
      "metadata": {
        "id": "reyrAe23UZdM"
      },
      "source": [
        "Berikut adalah kode python untuk **import** dari library **matplotlib**, **sklearn**, **numpy**"
      ]
    },
    {
      "cell_type": "code",
      "metadata": {
        "id": "aJZndjn3zezZ",
        "colab": {
          "base_uri": "https://localhost:8080/"
        },
        "outputId": "b3576333-653e-4138-8329-8416112e0f8c"
      },
      "source": [
        "# Standard scientific Python imports\n",
        "import matplotlib.pyplot as plt\n",
        "\n",
        "# Import datasets, classifiers and performance metrics\n",
        "from sklearn import datasets, svm, metrics\n",
        "\n",
        "# Import numpy to process matrix and vector\n",
        "import numpy as np\n",
        "\n",
        "print('import library done:')\n",
        "print('{}'.format(plt))\n",
        "print('{}'.format(datasets))\n",
        "print('{}'.format(svm))\n",
        "print('{}'.format(np))"
      ],
      "execution_count": null,
      "outputs": [
        {
          "output_type": "stream",
          "name": "stdout",
          "text": [
            "import library done:\n",
            "<module 'matplotlib.pyplot' from '/usr/local/lib/python3.7/dist-packages/matplotlib/pyplot.py'>\n",
            "<module 'sklearn.datasets' from '/usr/local/lib/python3.7/dist-packages/sklearn/datasets/__init__.py'>\n",
            "<module 'sklearn.svm' from '/usr/local/lib/python3.7/dist-packages/sklearn/svm/__init__.py'>\n",
            "<module 'numpy' from '/usr/local/lib/python3.7/dist-packages/numpy/__init__.py'>\n"
          ]
        }
      ]
    },
    {
      "cell_type": "markdown",
      "metadata": {
        "id": "CGl_cE8CU484"
      },
      "source": [
        "Berikut ini menggunakan **dataset digits** (MNIST),\n",
        "kemudian menampilkan sejumlah informasi dari dataset tersebut menggunakan **numpy**.\n",
        "\n",
        "**np.shape**() akan menginformasikan dimensi dari matrix.\n",
        "\n",
        "**digits.data** berisi informasi 1797 baris, 64 kolom, yang artinya ada 1797 data dalam dataset ini, setiap data berisikan 64 angka yang merepresentasikan grayscale pixel dari gambar 8x8.\n",
        "\n",
        "**digits.target** adalah data target (label) dari 1797 untuk proses training (latih).\n",
        "\n",
        "**digits.images** adalah data gambar, berisi vektor 3 dimensi: 1797 data, setiap gambar berisi 8x8 (8 baris, 8 kolom) sesuai dengan gambar angka 8x8 pixels\n",
        "\n",
        "tanda **...** artinya ada data di antara awal dan akhir yang tidak dimunculkan.\n"
      ]
    },
    {
      "cell_type": "code",
      "metadata": {
        "id": "nu4zDg8pU4H0",
        "colab": {
          "base_uri": "https://localhost:8080/"
        },
        "outputId": "bc91bd97-bf61-4879-8176-aebf2448c38f"
      },
      "source": [
        "# The digits dataset\n",
        "digits = datasets.load_digits()\n",
        "\n",
        "print('\\ndigits.data: {}\\n{}'.format(np.shape(digits.data), digits.data))\n",
        "\n",
        "print('\\ndigits.target: {}\\n{}'.format(np.shape(digits.target), digits.target))\n",
        "\n",
        "print('\\ndigits.images: {}\\n{}'.format(np.shape(digits.images), digits.images))\n"
      ],
      "execution_count": null,
      "outputs": [
        {
          "output_type": "stream",
          "name": "stdout",
          "text": [
            "\n",
            "digits.data: (1797, 64)\n",
            "[[ 0.  0.  5. ...  0.  0.  0.]\n",
            " [ 0.  0.  0. ... 10.  0.  0.]\n",
            " [ 0.  0.  0. ... 16.  9.  0.]\n",
            " ...\n",
            " [ 0.  0.  1. ...  6.  0.  0.]\n",
            " [ 0.  0.  2. ... 12.  0.  0.]\n",
            " [ 0.  0. 10. ... 12.  1.  0.]]\n",
            "\n",
            "digits.target: (1797,)\n",
            "[0 1 2 ... 8 9 8]\n",
            "\n",
            "digits.images: (1797, 8, 8)\n",
            "[[[ 0.  0.  5. ...  1.  0.  0.]\n",
            "  [ 0.  0. 13. ... 15.  5.  0.]\n",
            "  [ 0.  3. 15. ... 11.  8.  0.]\n",
            "  ...\n",
            "  [ 0.  4. 11. ... 12.  7.  0.]\n",
            "  [ 0.  2. 14. ... 12.  0.  0.]\n",
            "  [ 0.  0.  6. ...  0.  0.  0.]]\n",
            "\n",
            " [[ 0.  0.  0. ...  5.  0.  0.]\n",
            "  [ 0.  0.  0. ...  9.  0.  0.]\n",
            "  [ 0.  0.  3. ...  6.  0.  0.]\n",
            "  ...\n",
            "  [ 0.  0.  1. ...  6.  0.  0.]\n",
            "  [ 0.  0.  1. ...  6.  0.  0.]\n",
            "  [ 0.  0.  0. ... 10.  0.  0.]]\n",
            "\n",
            " [[ 0.  0.  0. ... 12.  0.  0.]\n",
            "  [ 0.  0.  3. ... 14.  0.  0.]\n",
            "  [ 0.  0.  8. ... 16.  0.  0.]\n",
            "  ...\n",
            "  [ 0.  9. 16. ...  0.  0.  0.]\n",
            "  [ 0.  3. 13. ... 11.  5.  0.]\n",
            "  [ 0.  0.  0. ... 16.  9.  0.]]\n",
            "\n",
            " ...\n",
            "\n",
            " [[ 0.  0.  1. ...  1.  0.  0.]\n",
            "  [ 0.  0. 13. ...  2.  1.  0.]\n",
            "  [ 0.  0. 16. ... 16.  5.  0.]\n",
            "  ...\n",
            "  [ 0.  0. 16. ... 15.  0.  0.]\n",
            "  [ 0.  0. 15. ... 16.  0.  0.]\n",
            "  [ 0.  0.  2. ...  6.  0.  0.]]\n",
            "\n",
            " [[ 0.  0.  2. ...  0.  0.  0.]\n",
            "  [ 0.  0. 14. ... 15.  1.  0.]\n",
            "  [ 0.  4. 16. ... 16.  7.  0.]\n",
            "  ...\n",
            "  [ 0.  0.  0. ... 16.  2.  0.]\n",
            "  [ 0.  0.  4. ... 16.  2.  0.]\n",
            "  [ 0.  0.  5. ... 12.  0.  0.]]\n",
            "\n",
            " [[ 0.  0. 10. ...  1.  0.  0.]\n",
            "  [ 0.  2. 16. ...  1.  0.  0.]\n",
            "  [ 0.  0. 15. ... 15.  0.  0.]\n",
            "  ...\n",
            "  [ 0.  4. 16. ... 16.  6.  0.]\n",
            "  [ 0.  8. 16. ... 16.  8.  0.]\n",
            "  [ 0.  1.  8. ... 12.  1.  0.]]]\n"
          ]
        }
      ]
    },
    {
      "cell_type": "markdown",
      "metadata": {
        "id": "ce5ERXyKYL1f"
      },
      "source": [
        "Berikut kita coba lihat contoh 1 data, dari **data.target** dan **data.images**.\n",
        "\n",
        "Kita ambil index ke 0.\n",
        "\n",
        "terlihat bahwa contoh **target[0]** adalah angka 0.\n",
        "\n",
        "kemudian kita tampilkan data representasi dari gambar ke 0 atau **images[0]**, terlihat ada dimensinya 8x8. berisi angka-angka 0 sampai 15.\n",
        "\n",
        "**angka 0** akan menampilkan pixel warna (paling) putih\n",
        "\n",
        "**angka 15** akan menampilkan pixel warna (paling) hitam\n",
        "\n",
        "dan baris terakhir melakukan plot gambar dengan **plt.imshow** dari **images[0]** agar kita dapat melihat langsung gambarnya, jadi tidak hanya membayangkan dari matrix datanya.\n",
        "\n",
        "di sini terlihat bahwa gambar, direpresentasikan sebagai matrix, dengan warna grayscale yang dibagi dalam 16 tingkatan. (0-15).\n"
      ]
    },
    {
      "cell_type": "code",
      "metadata": {
        "id": "rgKgbCcm2SsJ",
        "colab": {
          "base_uri": "https://localhost:8080/",
          "height": 458
        },
        "outputId": "0236fc7d-feea-4ca5-a919-a09215464750"
      },
      "source": [
        "print('target[0]: {}'.format(digits.target[0]))\n",
        "\n",
        "print('images[0]: {}\\n{}'.format(np.shape(digits.images[0]), digits.images[0]))\n",
        "\n",
        "plt.imshow(digits.images[0], cmap=plt.cm.gray_r, interpolation='nearest')"
      ],
      "execution_count": null,
      "outputs": [
        {
          "output_type": "stream",
          "name": "stdout",
          "text": [
            "target[0]: 0\n",
            "images[0]: (8, 8)\n",
            "[[ 0.  0.  5. 13.  9.  1.  0.  0.]\n",
            " [ 0.  0. 13. 15. 10. 15.  5.  0.]\n",
            " [ 0.  3. 15.  2.  0. 11.  8.  0.]\n",
            " [ 0.  4. 12.  0.  0.  8.  8.  0.]\n",
            " [ 0.  5.  8.  0.  0.  9.  8.  0.]\n",
            " [ 0.  4. 11.  0.  1. 12.  7.  0.]\n",
            " [ 0.  2. 14.  5. 10. 12.  0.  0.]\n",
            " [ 0.  0.  6. 13. 10.  0.  0.  0.]]\n"
          ]
        },
        {
          "output_type": "execute_result",
          "data": {
            "text/plain": [
              "<matplotlib.image.AxesImage at 0x7fdfaa5ece90>"
            ]
          },
          "metadata": {},
          "execution_count": 5
        },
        {
          "output_type": "display_data",
          "data": {
            "image/png": "[encoded data removed]",
            "text/plain": [
              "<Figure size 432x288 with 1 Axes>"
            ]
          },
          "metadata": {
            "needs_background": "light"
          }
        }
      ]
    },
    {
      "cell_type": "markdown",
      "metadata": {
        "id": "XcKLqjynZ6jU"
      },
      "source": [
        "Berikut contoh dari kode untuk menampilkan gambar dan label secara pasangan dalam 4 gambar sekaligus (dilihat dari **[:4]**)."
      ]
    },
    {
      "cell_type": "code",
      "metadata": {
        "id": "E6OI6xx13EUz",
        "colab": {
          "base_uri": "https://localhost:8080/",
          "height": 120
        },
        "outputId": "d7cbe0a6-d160-4f10-eff5-937feb8a0a4b"
      },
      "source": [
        "# The data that we are interested in is made of 8x8 images of digits, let's\n",
        "# have a look at the first 4 images, stored in the `images` attribute of the\n",
        "# dataset.  If we were working from image files, we could load them using\n",
        "# matplotlib.pyplot.imread.  Note that each image must have the same size. For these\n",
        "# images, we know which digit they represent: it is given in the 'target' of\n",
        "# the dataset.\n",
        "images_and_labels = list(zip(digits.images, digits.target))\n",
        "for index, (image, label) in enumerate(images_and_labels[:4]):\n",
        "    plt.subplot(2, 4, index + 1)\n",
        "    plt.axis('off')\n",
        "    plt.imshow(image, cmap=plt.cm.gray_r, interpolation='nearest')\n",
        "    plt.title('Training: %i' % label)"
      ],
      "execution_count": null,
      "outputs": [
        {
          "output_type": "display_data",
          "data": {
            "image/png": "[encoded data removed]",
            "text/plain": [
              "<Figure size 432x288 with 4 Axes>"
            ]
          },
          "metadata": {
            "needs_background": "light"
          }
        }
      ]
    },
    {
      "cell_type": "markdown",
      "metadata": {
        "id": "AZYDNGVvaYuu"
      },
      "source": [
        "Untuk melakukan klasifikasi dari data ini, perlu dilakukan **flatten** dari representasi gambar 8x8 menjadi 1x64.\n",
        "\n",
        "Proses **flatten** dilakukan dengan fungsi **reshape()**\n",
        "\n",
        "proses **reshape** akan mengubah dimensi dari 1797x8x8 menjadi 1797x64,\n",
        "sehingga matrix 3 dimensi diubah menjadi matrix 2 dimensi.\n"
      ]
    },
    {
      "cell_type": "code",
      "metadata": {
        "id": "S42XJ7dr45vZ",
        "colab": {
          "base_uri": "https://localhost:8080/"
        },
        "outputId": "88c4b1e2-1b29-4e67-90d5-e1683be62a7d"
      },
      "source": [
        "# To apply a classifier on this data, we need to flatten the image, to\n",
        "# turn the data in a (samples, feature) matrix:\n",
        "n_samples = len(digits.images)\n",
        "data = digits.images.reshape((n_samples, -1))\n",
        "\n",
        "print(np.shape(digits.images))\n",
        "print('n_samples: {}'.format(n_samples))\n",
        "print(np.shape(data))\n",
        "print('\\ndata[0]: \\n{}\\n'.format(data[0]))\n"
      ],
      "execution_count": null,
      "outputs": [
        {
          "output_type": "stream",
          "name": "stdout",
          "text": [
            "(1797, 8, 8)\n",
            "n_samples: 1797\n",
            "(1797, 64)\n",
            "\n",
            "data[0]: \n",
            "[ 0.  0.  5. 13.  9.  1.  0.  0.  0.  0. 13. 15. 10. 15.  5.  0.  0.  3.\n",
            " 15.  2.  0. 11.  8.  0.  0.  4. 12.  0.  0.  8.  8.  0.  0.  5.  8.  0.\n",
            "  0.  9.  8.  0.  0.  4. 11.  0.  1. 12.  7.  0.  0.  2. 14.  5. 10. 12.\n",
            "  0.  0.  0.  0.  6. 13. 10.  0.  0.  0.]\n",
            "\n"
          ]
        }
      ]
    },
    {
      "cell_type": "markdown",
      "metadata": {
        "id": "KFBjvJm3bIBT"
      },
      "source": [
        "Untuk percobaan kali ini, datanya akan dibagi 2, untuk memudahkan kita bagi rata (50-50).\n",
        "\n",
        "jadi **n_samples // 2**\n",
        "\n",
        "kemudian proses training (latih) akan mempelajari dari setengah data awal (dilihat dari **[:n_samples // 2]**).\n"
      ]
    },
    {
      "cell_type": "code",
      "metadata": {
        "id": "Mp6BWonl6JjR",
        "colab": {
          "base_uri": "https://localhost:8080/"
        },
        "outputId": "06a1850a-4178-4f24-875f-9b23789aaec1"
      },
      "source": [
        "print('n_samples // 2: {}'.format(n_samples // 2))\n"
      ],
      "execution_count": null,
      "outputs": [
        {
          "output_type": "stream",
          "name": "stdout",
          "text": [
            "n_samples // 2: 898\n"
          ]
        }
      ]
    },
    {
      "cell_type": "markdown",
      "metadata": {
        "id": "U0wlBalzbwyz"
      },
      "source": [
        "Kita akan menggunakan sistem klasifikasi SVM atau disebut Support-Vector Classifier,\n",
        "dengan nilai gamma sebesar 0.001.\n",
        "\n",
        "lihat referensi berikut untuk parameter dari nilai gamma (dan parameter lain).\n",
        "https://medium.com/machine-learning-101/chapter-2-svm-support-vector-machine-theory-f0812effc72\n",
        "\n",
        "![High Gamma](https://miro.medium.com/max/1200/1*dGDQxV8j83VB90skHsXktw.png)\n",
        "\n",
        "![Low Gamma](https://miro.medium.com/max/1200/1*ClmsnU_yb1YtIwAAr7krmg.png)\n",
        "\n",
        "Saat ini kita mengisikan data gamma nya secara manual, tapi ada tools seperti grid search dan cross validation yang dapat membantu mencari nilai yang tepat."
      ]
    },
    {
      "cell_type": "code",
      "metadata": {
        "id": "D0OhcPvq6aNK",
        "colab": {
          "base_uri": "https://localhost:8080/"
        },
        "outputId": "25f84036-7540-47a1-8ea7-5705a5677d70"
      },
      "source": [
        "# Create a classifier: a support vector classifier\n",
        "classifier = svm.SVC(gamma=0.001)\n",
        "\n",
        "# We learn the digits on the first half of the digits\n",
        "classifier.fit(data[:n_samples // 2], digits.target[:n_samples // 2])\n"
      ],
      "execution_count": null,
      "outputs": [
        {
          "output_type": "execute_result",
          "data": {
            "text/plain": [
              "SVC(C=1.0, break_ties=False, cache_size=200, class_weight=None, coef0=0.0,\n",
              "    decision_function_shape='ovr', degree=3, gamma=0.001, kernel='rbf',\n",
              "    max_iter=-1, probability=False, random_state=None, shrinking=True,\n",
              "    tol=0.001, verbose=False)"
            ]
          },
          "metadata": {},
          "execution_count": 9
        }
      ]
    },
    {
      "cell_type": "markdown",
      "metadata": {
        "id": "Zvf-zAA3cpNY"
      },
      "source": [
        "Setelah selesai melakukan proses latih, kita akan melakukan proses uji, dengan menggunakan setengah data akhir (terlihat dari **[n_samples // 2]**).\n",
        "\n",
        "data yang sudah kita punya (dengan label, atau data yang benar) kita masukkan dalam **expected**.\n",
        "\n",
        "kemudian dengan classifier yang sudah dilatih, kita melakukan prediksi (uji), hasil prediksinya kita masukkan dalam **predicted**\n",
        "\n",
        "untuk menghitung skor ketepatannya, kita menggunakan **accuracy_score** untuk membandingkan antara expected dengan predicted.\n",
        "\n"
      ]
    },
    {
      "cell_type": "code",
      "metadata": {
        "id": "-LEgDIMT7FR9",
        "colab": {
          "base_uri": "https://localhost:8080/"
        },
        "outputId": "f45ace73-ec2a-4f48-b6ea-11d410fd60ad"
      },
      "source": [
        "# Now predict the value of the digit on the second half:\n",
        "expected = digits.target[n_samples // 2:]\n",
        "predicted = classifier.predict(data[n_samples // 2:])\n",
        "\n",
        "print('Accuracy score: {}\\n'.format(metrics.accuracy_score(expected, predicted)))\n",
        "\n",
        "# http://scikit-learn.org/stable/modules/generated/sklearn.metrics.classification_report.html\n",
        "# https://towardsdatascience.com/accuracy-precision-recall-or-f1-331fb37c5cb9\n",
        "\n",
        "print(\"Classification report for classifier %s:\\n\\n%s\\n\"\n",
        "      % (classifier, metrics.classification_report(expected, predicted)))\n",
        "\n",
        "# https://stackoverflow.com/questions/30746460/how-to-interpret-scikits-learn-confusion-matrix-and-classification-report\n",
        "\n",
        "print(\"\\nConfusion matrix:\\n%s\" % metrics.confusion_matrix(expected, predicted))\n"
      ],
      "execution_count": null,
      "outputs": [
        {
          "output_type": "stream",
          "name": "stdout",
          "text": [
            "Accuracy score: 0.9688542825361512\n",
            "\n",
            "Classification report for classifier SVC(C=1.0, break_ties=False, cache_size=200, class_weight=None, coef0=0.0,\n",
            "    decision_function_shape='ovr', degree=3, gamma=0.001, kernel='rbf',\n",
            "    max_iter=-1, probability=False, random_state=None, shrinking=True,\n",
            "    tol=0.001, verbose=False):\n",
            "\n",
            "              precision    recall  f1-score   support\n",
            "\n",
            "           0       1.00      0.99      0.99        88\n",
            "           1       0.99      0.97      0.98        91\n",
            "           2       0.99      0.99      0.99        86\n",
            "           3       0.98      0.87      0.92        91\n",
            "           4       0.99      0.96      0.97        92\n",
            "           5       0.95      0.97      0.96        91\n",
            "           6       0.99      0.99      0.99        91\n",
            "           7       0.96      0.99      0.97        89\n",
            "           8       0.94      1.00      0.97        88\n",
            "           9       0.93      0.98      0.95        92\n",
            "\n",
            "    accuracy                           0.97       899\n",
            "   macro avg       0.97      0.97      0.97       899\n",
            "weighted avg       0.97      0.97      0.97       899\n",
            "\n",
            "\n",
            "\n",
            "Confusion matrix:\n",
            "[[87  0  0  0  1  0  0  0  0  0]\n",
            " [ 0 88  1  0  0  0  0  0  1  1]\n",
            " [ 0  0 85  1  0  0  0  0  0  0]\n",
            " [ 0  0  0 79  0  3  0  4  5  0]\n",
            " [ 0  0  0  0 88  0  0  0  0  4]\n",
            " [ 0  0  0  0  0 88  1  0  0  2]\n",
            " [ 0  1  0  0  0  0 90  0  0  0]\n",
            " [ 0  0  0  0  0  1  0 88  0  0]\n",
            " [ 0  0  0  0  0  0  0  0 88  0]\n",
            " [ 0  0  0  1  0  1  0  0  0 90]]\n"
          ]
        }
      ]
    },
    {
      "cell_type": "markdown",
      "metadata": {
        "id": "DplN2VTzge2d"
      },
      "source": [
        "Cara membaca confusion matrix untuk multi values classifier.\n",
        "diambil contoh **baris pertama** untuk data dengan **label** (nilai benar, actual) **0**\n",
        "\n",
        "di baris pertama ini nilai total adalah 88 (dari: 87 + 1),\n",
        "\n",
        "maka prediksi yang benar untuk **label 0** adalah 87/88 sekitar 99% .. data ini disebut **recall**\n",
        "\n",
        "kemudian melihat **kolom pertama** yaitu untuk **prediksi 0** di sini classifier mendapatkan presisi 87/87 yaitu 100%.\n",
        "\n",
        "sekarang kita lihat **kolom sepuluh** yaitu untuk **prediksi 9** di sini classifier mendapatkan presisi 90/97 sekitar 93%, terlihat bahwa ada 4 data yang **harusnya diprediksi sebagai 9 ternyata angka 4**.\n",
        "\n",
        "\n",
        "\n"
      ]
    },
    {
      "cell_type": "markdown",
      "metadata": {
        "id": "uLG3f0vqfXXP"
      },
      "source": [
        "Berikut kita tampilkan data dari gambar dan hasil prediksinya,\n",
        "apakah kamu setuju dengan prediksi dari gambar ini?\n"
      ]
    },
    {
      "cell_type": "code",
      "metadata": {
        "id": "IkUAg3esfFC_",
        "colab": {
          "base_uri": "https://localhost:8080/",
          "height": 120
        },
        "outputId": "4e9cb5ce-c9c2-4d53-e37c-c8c233ae0634"
      },
      "source": [
        "images_and_predictions = list(zip(digits.images[n_samples // 2:], predicted))\n",
        "for index, (image, prediction) in enumerate(images_and_predictions[:4]):\n",
        "    plt.subplot(2, 4, index + 5)\n",
        "    plt.axis('off')\n",
        "    plt.imshow(image, cmap=plt.cm.gray_r, interpolation='nearest')\n",
        "    plt.title('Prediction: %i' % prediction)"
      ],
      "execution_count": null,
      "outputs": [
        {
          "output_type": "display_data",
          "data": {
            "image/png": "[encoded data removed]",
            "text/plain": [
              "<Figure size 432x288 with 4 Axes>"
            ]
          },
          "metadata": {
            "needs_background": "light"
          }
        }
      ]
    }
  ]
}