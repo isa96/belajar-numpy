{
  "nbformat": 4,
  "nbformat_minor": 0,
  "metadata": {
    "colab": {
      "name": "[Addition] Numpy 02 Indexing and Selection.ipynb",
      "provenance": [],
      "collapsed_sections": []
    },
    "kernelspec": {
      "display_name": "Python 3",
      "language": "python",
      "name": "python3"
    },
    "language_info": {
      "codemirror_mode": {
        "name": "ipython",
        "version": 3
      },
      "file_extension": ".py",
      "mimetype": "text/x-python",
      "name": "python",
      "nbconvert_exporter": "python",
      "pygments_lexer": "ipython3",
      "version": "3.7.4"
    },
    "varInspector": {
      "cols": {
        "lenName": 16,
        "lenType": 16,
        "lenVar": 40
      },
      "kernels_config": {
        "python": {
          "delete_cmd_postfix": "",
          "delete_cmd_prefix": "del ",
          "library": "var_list.py",
          "varRefreshCmd": "print(var_dic_list())"
        },
        "r": {
          "delete_cmd_postfix": ") ",
          "delete_cmd_prefix": "rm(",
          "library": "var_list.r",
          "varRefreshCmd": "cat(var_dic_list()) "
        }
      },
      "types_to_exclude": [
        "module",
        "function",
        "builtin_function_or_method",
        "instance",
        "_Feature"
      ],
      "window_display": false
    }
  },
  "cells": [
    {
      "cell_type": "markdown",
      "metadata": {
        "id": "0VsBAzjZGcm_"
      },
      "source": [
        "<a href=\"https://colab.research.google.com/github/nurimammasri/Wooky-Numpy/blob/main/%5BAddition%5D%20Numpy%2002%20Indexing%20and%20Selection.ipynb\" target=\"_parent\"><img src=\"https://colab.research.google.com/assets/colab-badge.svg\" alt=\"Open In Colab\"/></a>"
      ]
    },
    {
      "cell_type": "markdown",
      "metadata": {
        "id": "OZS8q9oONHZu"
      },
      "source": [
        "# NumPy Indexing and Selection\n",
        "\n",
        "In this lecture we will discuss how to select elements or groups of elements from an array."
      ]
    },
    {
      "cell_type": "code",
      "metadata": {
        "id": "vEtXS6TLNHZx"
      },
      "source": [
        "import numpy as np"
      ],
      "execution_count": 32,
      "outputs": []
    },
    {
      "cell_type": "code",
      "metadata": {
        "id": "lgr9SuSGNHZx"
      },
      "source": [
        "#Creating sample array\n",
        "arr = np.arange(0,11)"
      ],
      "execution_count": 33,
      "outputs": []
    },
    {
      "cell_type": "code",
      "metadata": {
        "id": "10AQxwMnNHZy",
        "colab": {
          "base_uri": "https://localhost:8080/"
        },
        "outputId": "53953e42-2e04-473e-9162-799815fc9511"
      },
      "source": [
        "#Show\n",
        "arr = arr*2\n",
        "arr"
      ],
      "execution_count": 34,
      "outputs": [
        {
          "output_type": "execute_result",
          "data": {
            "text/plain": [
              "array([ 0,  2,  4,  6,  8, 10, 12, 14, 16, 18, 20])"
            ]
          },
          "metadata": {},
          "execution_count": 34
        }
      ]
    },
    {
      "cell_type": "markdown",
      "metadata": {
        "id": "236huO5hNHZy"
      },
      "source": [
        "## Bracket Indexing and Selection\n",
        "The simplest way to pick one or some elements of an array looks very similar to python lists:"
      ]
    },
    {
      "cell_type": "code",
      "metadata": {
        "id": "4dAK2Al8NHZz",
        "colab": {
          "base_uri": "https://localhost:8080/"
        },
        "outputId": "498d7ba3-044d-465d-fd24-030d4ff2657e"
      },
      "source": [
        "#Get a value at an index\n",
        "arr[8]"
      ],
      "execution_count": 35,
      "outputs": [
        {
          "output_type": "execute_result",
          "data": {
            "text/plain": [
              "16"
            ]
          },
          "metadata": {},
          "execution_count": 35
        }
      ]
    },
    {
      "cell_type": "code",
      "metadata": {
        "id": "K2PhfH7rNHZz",
        "colab": {
          "base_uri": "https://localhost:8080/"
        },
        "outputId": "63008119-6fdb-4bab-9271-e86c4a3f67f7"
      },
      "source": [
        "#Get values in a range\n",
        "arr[1:5]"
      ],
      "execution_count": 36,
      "outputs": [
        {
          "output_type": "execute_result",
          "data": {
            "text/plain": [
              "array([2, 4, 6, 8])"
            ]
          },
          "metadata": {},
          "execution_count": 36
        }
      ]
    },
    {
      "cell_type": "code",
      "metadata": {
        "id": "JL64sgbHNHZ0",
        "colab": {
          "base_uri": "https://localhost:8080/"
        },
        "outputId": "ff4ed66f-515c-4c49-dca3-e24c81f8b946"
      },
      "source": [
        "#Get values in a range\n",
        "arr[-4:]"
      ],
      "execution_count": 37,
      "outputs": [
        {
          "output_type": "execute_result",
          "data": {
            "text/plain": [
              "array([14, 16, 18, 20])"
            ]
          },
          "metadata": {},
          "execution_count": 37
        }
      ]
    },
    {
      "cell_type": "code",
      "metadata": {
        "id": "pTJYMP2LNHZ0",
        "colab": {
          "base_uri": "https://localhost:8080/"
        },
        "outputId": "43c1f17e-10ff-425d-e6ea-70039c497c06"
      },
      "source": [
        "#Get values in a range\n",
        "arr[:5]"
      ],
      "execution_count": 38,
      "outputs": [
        {
          "output_type": "execute_result",
          "data": {
            "text/plain": [
              "array([0, 2, 4, 6, 8])"
            ]
          },
          "metadata": {},
          "execution_count": 38
        }
      ]
    },
    {
      "cell_type": "code",
      "metadata": {
        "colab": {
          "base_uri": "https://localhost:8080/"
        },
        "id": "enS989O7wdWe",
        "outputId": "4ef616b0-9898-49c3-96ad-090d9ef7f6cc"
      },
      "source": [
        "arr[0:]"
      ],
      "execution_count": 39,
      "outputs": [
        {
          "output_type": "execute_result",
          "data": {
            "text/plain": [
              "array([ 0,  2,  4,  6,  8, 10, 12, 14, 16, 18, 20])"
            ]
          },
          "metadata": {},
          "execution_count": 39
        }
      ]
    },
    {
      "cell_type": "code",
      "metadata": {
        "colab": {
          "base_uri": "https://localhost:8080/"
        },
        "id": "34txzDc9wdWf",
        "outputId": "3669368b-dec1-47d2-c782-b034631ed1b6"
      },
      "source": [
        "arr[1:3]"
      ],
      "execution_count": 40,
      "outputs": [
        {
          "output_type": "execute_result",
          "data": {
            "text/plain": [
              "array([2, 4])"
            ]
          },
          "metadata": {},
          "execution_count": 40
        }
      ]
    },
    {
      "cell_type": "code",
      "metadata": {
        "scrolled": true,
        "colab": {
          "base_uri": "https://localhost:8080/"
        },
        "id": "9kIXS2atwdWg",
        "outputId": "152be4b6-5475-4180-a360-dcfcebe77d4a"
      },
      "source": [
        "arr[1:-1]"
      ],
      "execution_count": 41,
      "outputs": [
        {
          "output_type": "execute_result",
          "data": {
            "text/plain": [
              "array([ 2,  4,  6,  8, 10, 12, 14, 16, 18])"
            ]
          },
          "metadata": {},
          "execution_count": 41
        }
      ]
    },
    {
      "cell_type": "code",
      "metadata": {
        "colab": {
          "base_uri": "https://localhost:8080/"
        },
        "id": "zH_jrFvuwdWg",
        "outputId": "92075a07-6a7d-427b-9fd6-5298789487ce"
      },
      "source": [
        "arr[::2]"
      ],
      "execution_count": 42,
      "outputs": [
        {
          "output_type": "execute_result",
          "data": {
            "text/plain": [
              "array([ 0,  4,  8, 12, 16, 20])"
            ]
          },
          "metadata": {},
          "execution_count": 42
        }
      ]
    },
    {
      "cell_type": "markdown",
      "metadata": {
        "id": "0G9YdXuZNHZ1"
      },
      "source": [
        "## Broadcasting\n",
        "\n",
        "![broadcasting.png](https://raw.githubusercontent.com/nurimammasri/Wooky-Numpy/main/Images/broadcasting.png)\n",
        "\n",
        "Numpy arrays differ from a normal Python list because of their ability to broadcast:"
      ]
    },
    {
      "cell_type": "code",
      "metadata": {
        "colab": {
          "base_uri": "https://localhost:8080/"
        },
        "id": "O-htBmz1wdWi",
        "outputId": "99d58fc3-f676-47c5-c40d-bf98c5bff585"
      },
      "source": [
        "arr"
      ],
      "execution_count": 43,
      "outputs": [
        {
          "output_type": "execute_result",
          "data": {
            "text/plain": [
              "array([ 0,  2,  4,  6,  8, 10, 12, 14, 16, 18, 20])"
            ]
          },
          "metadata": {},
          "execution_count": 43
        }
      ]
    },
    {
      "cell_type": "code",
      "metadata": {
        "id": "GdI77-uONHZ1",
        "colab": {
          "base_uri": "https://localhost:8080/"
        },
        "outputId": "3940610e-c188-481a-c699-49d0c452b580"
      },
      "source": [
        "#Setting a value with index range (Broadcasting)\n",
        "arr[0:5]=100\n",
        "\n",
        "#Show\n",
        "arr"
      ],
      "execution_count": 44,
      "outputs": [
        {
          "output_type": "execute_result",
          "data": {
            "text/plain": [
              "array([100, 100, 100, 100, 100,  10,  12,  14,  16,  18,  20])"
            ]
          },
          "metadata": {},
          "execution_count": 44
        }
      ]
    },
    {
      "cell_type": "markdown",
      "metadata": {
        "id": "osCscjESwdWi"
      },
      "source": [
        "---\n",
        "**Let's try the same method on Python List**"
      ]
    },
    {
      "cell_type": "code",
      "metadata": {
        "id": "lxP7ywNBNHZ2",
        "colab": {
          "base_uri": "https://localhost:8080/"
        },
        "outputId": "13d8679a-6b88-4b15-9029-fdd037e22b9a"
      },
      "source": [
        "ar1 = [1,2,3,4,5]\n",
        "ar1"
      ],
      "execution_count": 45,
      "outputs": [
        {
          "output_type": "execute_result",
          "data": {
            "text/plain": [
              "[1, 2, 3, 4, 5]"
            ]
          },
          "metadata": {},
          "execution_count": 45
        }
      ]
    },
    {
      "cell_type": "code",
      "metadata": {
        "id": "jPS6hB5mNHZ2"
      },
      "source": [
        "# Error\n",
        "# ar1[0:2]=100"
      ],
      "execution_count": 46,
      "outputs": []
    },
    {
      "cell_type": "code",
      "metadata": {
        "id": "aiv356DmNHZ3"
      },
      "source": [
        "# AttributeError: 'list' object has no attribute 'mean'\n",
        "# ar1.mean()"
      ],
      "execution_count": 47,
      "outputs": []
    },
    {
      "cell_type": "markdown",
      "metadata": {
        "id": "mAqqTXnWwdWl"
      },
      "source": [
        "---\n",
        "**Back to NumPy Array**"
      ]
    },
    {
      "cell_type": "code",
      "metadata": {
        "id": "MZUmCLqvNHZ3",
        "colab": {
          "base_uri": "https://localhost:8080/"
        },
        "outputId": "048849cd-e0d3-489f-c453-3a9869c4f754"
      },
      "source": [
        "arr.mean()"
      ],
      "execution_count": 48,
      "outputs": [
        {
          "output_type": "execute_result",
          "data": {
            "text/plain": [
              "53.63636363636363"
            ]
          },
          "metadata": {},
          "execution_count": 48
        }
      ]
    },
    {
      "cell_type": "code",
      "metadata": {
        "id": "JlOJ8mIJNHZ3",
        "colab": {
          "base_uri": "https://localhost:8080/"
        },
        "outputId": "859465d4-cdb8-43f2-9dca-023da0b307ad"
      },
      "source": [
        "# Reset array, we'll see why I had to reset in  a moment\n",
        "arr = np.arange(0,11)\n",
        "\n",
        "#Show\n",
        "arr"
      ],
      "execution_count": 49,
      "outputs": [
        {
          "output_type": "execute_result",
          "data": {
            "text/plain": [
              "array([ 0,  1,  2,  3,  4,  5,  6,  7,  8,  9, 10])"
            ]
          },
          "metadata": {},
          "execution_count": 49
        }
      ]
    },
    {
      "cell_type": "code",
      "metadata": {
        "id": "ikvqJM3hNHZ3",
        "colab": {
          "base_uri": "https://localhost:8080/"
        },
        "outputId": "317ba8b0-1a22-468a-b56f-e4e9376a55d8"
      },
      "source": [
        "#Important notes on Slices\n",
        "slice_of_arr = arr[0:6]\n",
        "\n",
        "#Show slice\n",
        "slice_of_arr"
      ],
      "execution_count": 50,
      "outputs": [
        {
          "output_type": "execute_result",
          "data": {
            "text/plain": [
              "array([0, 1, 2, 3, 4, 5])"
            ]
          },
          "metadata": {},
          "execution_count": 50
        }
      ]
    },
    {
      "cell_type": "code",
      "metadata": {
        "id": "k5yE5eTvNHZ3",
        "colab": {
          "base_uri": "https://localhost:8080/"
        },
        "outputId": "1e6d4506-2b7f-4ec1-e3c1-b558be86a4ba"
      },
      "source": [
        "#Change Slice\n",
        "slice_of_arr[:]=99\n",
        "\n",
        "#Show Slice again\n",
        "slice_of_arr"
      ],
      "execution_count": 51,
      "outputs": [
        {
          "output_type": "execute_result",
          "data": {
            "text/plain": [
              "array([99, 99, 99, 99, 99, 99])"
            ]
          },
          "metadata": {},
          "execution_count": 51
        }
      ]
    },
    {
      "cell_type": "markdown",
      "metadata": {
        "id": "OlMEKucSNHZ4"
      },
      "source": [
        "Now note the changes also occur in our original array!"
      ]
    },
    {
      "cell_type": "code",
      "metadata": {
        "id": "UGnjdZnKNHZ4",
        "colab": {
          "base_uri": "https://localhost:8080/"
        },
        "outputId": "7678c182-2ffe-43fc-a290-62bd27161319"
      },
      "source": [
        "arr"
      ],
      "execution_count": 52,
      "outputs": [
        {
          "output_type": "execute_result",
          "data": {
            "text/plain": [
              "array([99, 99, 99, 99, 99, 99,  6,  7,  8,  9, 10])"
            ]
          },
          "metadata": {},
          "execution_count": 52
        }
      ]
    },
    {
      "cell_type": "markdown",
      "metadata": {
        "id": "msxca2K5NHZ4"
      },
      "source": [
        "Data is not copied, it's a view of the original array! This avoids memory problems!"
      ]
    },
    {
      "cell_type": "code",
      "metadata": {
        "id": "kwDdsE9hNHZ4",
        "colab": {
          "base_uri": "https://localhost:8080/"
        },
        "outputId": "cdfbf794-7564-4706-afd0-bb74a19ea571"
      },
      "source": [
        "#To get a copy, need to be explicit\n",
        "arr_copy = arr.copy()\n",
        "\n",
        "arr_copy"
      ],
      "execution_count": 53,
      "outputs": [
        {
          "output_type": "execute_result",
          "data": {
            "text/plain": [
              "array([99, 99, 99, 99, 99, 99,  6,  7,  8,  9, 10])"
            ]
          },
          "metadata": {},
          "execution_count": 53
        }
      ]
    },
    {
      "cell_type": "markdown",
      "metadata": {
        "id": "Xs-XaWaANHZ4"
      },
      "source": [
        "## Indexing a 2D array (matrices)\n",
        "\n",
        "The general format are: \n",
        "- **arr_2d[row][col]** or \n",
        "- **arr_2d[row,col]**.\n",
        "\n",
        "I recommend usually using the comma notation for clarity.\n",
        "\n",
        "Similar with Python List, array index also start from 0"
      ]
    },
    {
      "cell_type": "code",
      "metadata": {
        "id": "wcW_udv6NHZ5",
        "colab": {
          "base_uri": "https://localhost:8080/"
        },
        "outputId": "e0e0f2e3-817a-40ec-f037-8a7adc89ae14"
      },
      "source": [
        "arr_2d = np.array(([5,10,15],[20,25,30],[35,40,45]))\n",
        "\n",
        "#Show\n",
        "arr_2d"
      ],
      "execution_count": 54,
      "outputs": [
        {
          "output_type": "execute_result",
          "data": {
            "text/plain": [
              "array([[ 5, 10, 15],\n",
              "       [20, 25, 30],\n",
              "       [35, 40, 45]])"
            ]
          },
          "metadata": {},
          "execution_count": 54
        }
      ]
    },
    {
      "cell_type": "code",
      "metadata": {
        "id": "w5zvqoivNHZ5",
        "colab": {
          "base_uri": "https://localhost:8080/"
        },
        "outputId": "f5283a67-3908-4413-afe4-befd6e7f90d2"
      },
      "source": [
        "#Indexing row\n",
        "arr_2d[1]"
      ],
      "execution_count": 55,
      "outputs": [
        {
          "output_type": "execute_result",
          "data": {
            "text/plain": [
              "array([20, 25, 30])"
            ]
          },
          "metadata": {},
          "execution_count": 55
        }
      ]
    },
    {
      "cell_type": "code",
      "metadata": {
        "id": "fv3X0932NHZ5",
        "colab": {
          "base_uri": "https://localhost:8080/"
        },
        "outputId": "254fb13f-2376-45fc-dfb0-db29caaef3fb"
      },
      "source": [
        "# Format is arr_2d[row][col] or arr_2d[row,col]\n",
        "\n",
        "# Getting individual element value\n",
        "arr_2d[1][0]"
      ],
      "execution_count": 56,
      "outputs": [
        {
          "output_type": "execute_result",
          "data": {
            "text/plain": [
              "20"
            ]
          },
          "metadata": {},
          "execution_count": 56
        }
      ]
    },
    {
      "cell_type": "code",
      "metadata": {
        "id": "fD3NsAQ0NHZ5",
        "colab": {
          "base_uri": "https://localhost:8080/"
        },
        "outputId": "1b94866d-068b-4c6a-dd19-7927baaaf462"
      },
      "source": [
        "# Getting individual element value\n",
        "arr_2d[1,0]"
      ],
      "execution_count": 57,
      "outputs": [
        {
          "output_type": "execute_result",
          "data": {
            "text/plain": [
              "20"
            ]
          },
          "metadata": {},
          "execution_count": 57
        }
      ]
    },
    {
      "cell_type": "code",
      "metadata": {
        "id": "FVvbFBsNNHZ5",
        "colab": {
          "base_uri": "https://localhost:8080/"
        },
        "outputId": "5c898236-ebe9-49e7-b018-4a67a5672730"
      },
      "source": [
        "# 2D array slicing\n",
        "\n",
        "#Shape (2,2) from top right corner\n",
        "arr_2d[:2,1:]"
      ],
      "execution_count": 58,
      "outputs": [
        {
          "output_type": "execute_result",
          "data": {
            "text/plain": [
              "array([[10, 15],\n",
              "       [25, 30]])"
            ]
          },
          "metadata": {},
          "execution_count": 58
        }
      ]
    },
    {
      "cell_type": "code",
      "metadata": {
        "id": "y2b8wnzrNHZ5",
        "colab": {
          "base_uri": "https://localhost:8080/"
        },
        "outputId": "fbd8a154-34be-496b-e21d-9934f66aac67"
      },
      "source": [
        "#Shape bottom row\n",
        "arr_2d[2]"
      ],
      "execution_count": 59,
      "outputs": [
        {
          "output_type": "execute_result",
          "data": {
            "text/plain": [
              "array([35, 40, 45])"
            ]
          },
          "metadata": {},
          "execution_count": 59
        }
      ]
    },
    {
      "cell_type": "code",
      "metadata": {
        "id": "MY1AQC9jNHZ6",
        "colab": {
          "base_uri": "https://localhost:8080/"
        },
        "outputId": "1e3fbeca-1198-41fa-8118-6db98015e400"
      },
      "source": [
        "#Shape bottom row\n",
        "arr_2d[2,:]"
      ],
      "execution_count": 60,
      "outputs": [
        {
          "output_type": "execute_result",
          "data": {
            "text/plain": [
              "array([35, 40, 45])"
            ]
          },
          "metadata": {},
          "execution_count": 60
        }
      ]
    },
    {
      "cell_type": "markdown",
      "metadata": {
        "id": "DI9cblXENHZ7"
      },
      "source": [
        "## Selection\n",
        "\n",
        "Let's briefly go over how to use brackets for selection based off of comparison operators."
      ]
    },
    {
      "cell_type": "code",
      "metadata": {
        "id": "ch97EzVkNHZ7",
        "colab": {
          "base_uri": "https://localhost:8080/"
        },
        "outputId": "dd4f3052-ece9-43a9-eeda-f973bf2dab78"
      },
      "source": [
        "arr = np.arange(1,11)\n",
        "arr"
      ],
      "execution_count": 61,
      "outputs": [
        {
          "output_type": "execute_result",
          "data": {
            "text/plain": [
              "array([ 1,  2,  3,  4,  5,  6,  7,  8,  9, 10])"
            ]
          },
          "metadata": {},
          "execution_count": 61
        }
      ]
    },
    {
      "cell_type": "code",
      "metadata": {
        "id": "e9mb0CCYNHZ7",
        "colab": {
          "base_uri": "https://localhost:8080/"
        },
        "outputId": "3c5310cd-b1d8-4414-c743-299db0c7cc43"
      },
      "source": [
        "arr > 4"
      ],
      "execution_count": 62,
      "outputs": [
        {
          "output_type": "execute_result",
          "data": {
            "text/plain": [
              "array([False, False, False, False,  True,  True,  True,  True,  True,\n",
              "        True])"
            ]
          },
          "metadata": {},
          "execution_count": 62
        }
      ]
    },
    {
      "cell_type": "code",
      "metadata": {
        "id": "JKSoCLbtNHZ7"
      },
      "source": [
        "bool_arr = arr>4"
      ],
      "execution_count": 63,
      "outputs": []
    },
    {
      "cell_type": "code",
      "metadata": {
        "id": "Wq3aredgNHZ7",
        "colab": {
          "base_uri": "https://localhost:8080/"
        },
        "outputId": "cef2a1ec-e3eb-4f5f-d575-d4481afaa0c2"
      },
      "source": [
        "bool_arr"
      ],
      "execution_count": 64,
      "outputs": [
        {
          "output_type": "execute_result",
          "data": {
            "text/plain": [
              "array([False, False, False, False,  True,  True,  True,  True,  True,\n",
              "        True])"
            ]
          },
          "metadata": {},
          "execution_count": 64
        }
      ]
    },
    {
      "cell_type": "code",
      "metadata": {
        "id": "AaxH_pK-NHZ7",
        "colab": {
          "base_uri": "https://localhost:8080/"
        },
        "outputId": "128a9eda-5efc-4a51-89df-32de25264bc0"
      },
      "source": [
        "arr[bool_arr]"
      ],
      "execution_count": 65,
      "outputs": [
        {
          "output_type": "execute_result",
          "data": {
            "text/plain": [
              "array([ 5,  6,  7,  8,  9, 10])"
            ]
          },
          "metadata": {},
          "execution_count": 65
        }
      ]
    },
    {
      "cell_type": "code",
      "metadata": {
        "id": "wAVy2IIRNHZ7",
        "colab": {
          "base_uri": "https://localhost:8080/"
        },
        "outputId": "0c41fae8-ea9b-47fa-ec6f-c434f74094c5"
      },
      "source": [
        "arr[arr<6]"
      ],
      "execution_count": 66,
      "outputs": [
        {
          "output_type": "execute_result",
          "data": {
            "text/plain": [
              "array([1, 2, 3, 4, 5])"
            ]
          },
          "metadata": {},
          "execution_count": 66
        }
      ]
    },
    {
      "cell_type": "code",
      "metadata": {
        "id": "AR5sdEs3NHZ8",
        "colab": {
          "base_uri": "https://localhost:8080/"
        },
        "outputId": "5413e146-6d55-42d7-b6ae-69126c804bde"
      },
      "source": [
        "x = 2\n",
        "arr[arr>x]"
      ],
      "execution_count": 67,
      "outputs": [
        {
          "output_type": "execute_result",
          "data": {
            "text/plain": [
              "array([ 3,  4,  5,  6,  7,  8,  9, 10])"
            ]
          },
          "metadata": {},
          "execution_count": 67
        }
      ]
    },
    {
      "cell_type": "code",
      "metadata": {
        "id": "x5UXVFLLNHZ8"
      },
      "source": [
        ""
      ],
      "execution_count": 67,
      "outputs": []
    }
  ]
}