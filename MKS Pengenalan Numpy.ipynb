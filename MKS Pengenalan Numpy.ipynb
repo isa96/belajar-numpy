{
  "nbformat": 4,
  "nbformat_minor": 0,
  "metadata": {
    "colab": {
      "name": "MKS Pengenalan Numpy.ipynb",
      "provenance": [],
      "collapsed_sections": []
    },
    "kernelspec": {
      "name": "python3",
      "display_name": "Python 3"
    }
  },
  "cells": [
    {
      "cell_type": "markdown",
      "metadata": {
        "id": "i04_w8DoGali"
      },
      "source": [
        "<a href=\"https://colab.research.google.com/github/nurimammasri/Wooky-Numpy/blob/main/MKS%20Pengenalan%20Numpy.ipynb\" target=\"_parent\"><img src=\"https://colab.research.google.com/assets/colab-badge.svg\" alt=\"Open In Colab\"/></a>"
      ]
    },
    {
      "cell_type": "markdown",
      "metadata": {
        "id": "DdirsGRlZLao"
      },
      "source": [
        "# https://bit.ly/mkspynumpy\n",
        "\n",
        "# Pengenalan NumPy\n",
        "\n",
        "oleh oon arfiandwi https://oo.or.id/py\n",
        "\n",
        "Lisensi Konten Creative Commons: CC-BY-SA\n",
        "\n",
        "\n",
        "2019-12-28 mks.py Upnormal Makassar\n"
      ]
    },
    {
      "cell_type": "code",
      "metadata": {
        "id": "BMWq9q7hY74X",
        "colab": {
          "base_uri": "https://localhost:8080/"
        },
        "outputId": "24bccae7-3a9b-4265-d9f0-b637e889c34b"
      },
      "source": [
        "!pip freeze\n"
      ],
      "execution_count": 1,
      "outputs": [
        {
          "output_type": "stream",
          "name": "stdout",
          "text": [
            "absl-py==0.12.0\n",
            "alabaster==0.7.12\n",
            "albumentations==0.1.12\n",
            "altair==4.1.0\n",
            "appdirs==1.4.4\n",
            "argcomplete==1.12.3\n",
            "argon2-cffi==21.1.0\n",
            "arviz==0.11.2\n",
            "astor==0.8.1\n",
            "astropy==4.3.1\n",
            "astunparse==1.6.3\n",
            "atari-py==0.2.9\n",
            "atomicwrites==1.4.0\n",
            "attrs==21.2.0\n",
            "audioread==2.1.9\n",
            "autograd==1.3\n",
            "Babel==2.9.1\n",
            "backcall==0.2.0\n",
            "beautifulsoup4==4.6.3\n",
            "bleach==4.0.0\n",
            "blis==0.4.1\n",
            "bokeh==2.3.3\n",
            "Bottleneck==1.3.2\n",
            "branca==0.4.2\n",
            "bs4==0.0.1\n",
            "CacheControl==0.12.6\n",
            "cached-property==1.5.2\n",
            "cachetools==4.2.2\n",
            "catalogue==1.0.0\n",
            "certifi==2021.5.30\n",
            "cffi==1.14.6\n",
            "cftime==1.5.0\n",
            "chardet==3.0.4\n",
            "charset-normalizer==2.0.4\n",
            "clang==5.0\n",
            "click==7.1.2\n",
            "cloudpickle==1.3.0\n",
            "cmake==3.12.0\n",
            "cmdstanpy==0.9.5\n",
            "colorcet==2.0.6\n",
            "colorlover==0.3.0\n",
            "community==1.0.0b1\n",
            "contextlib2==0.5.5\n",
            "convertdate==2.3.2\n",
            "coverage==3.7.1\n",
            "coveralls==0.5\n",
            "crcmod==1.7\n",
            "cufflinks==0.17.3\n",
            "cvxopt==1.2.6\n",
            "cvxpy==1.0.31\n",
            "cycler==0.10.0\n",
            "cymem==2.0.5\n",
            "Cython==0.29.24\n",
            "daft==0.0.4\n",
            "dask==2.12.0\n",
            "datascience==0.10.6\n",
            "debugpy==1.0.0\n",
            "decorator==4.4.2\n",
            "defusedxml==0.7.1\n",
            "descartes==1.1.0\n",
            "dill==0.3.4\n",
            "distributed==1.25.3\n",
            "dlib @ file:///dlib-19.18.0-cp37-cp37m-linux_x86_64.whl\n",
            "dm-tree==0.1.6\n",
            "docopt==0.6.2\n",
            "docutils==0.17.1\n",
            "dopamine-rl==1.0.5\n",
            "earthengine-api==0.1.278\n",
            "easydict==1.9\n",
            "ecos==2.0.7.post1\n",
            "editdistance==0.5.3\n",
            "en-core-web-sm @ https://github.com/explosion/spacy-models/releases/download/en_core_web_sm-2.2.5/en_core_web_sm-2.2.5.tar.gz\n",
            "entrypoints==0.3\n",
            "ephem==4.0.0.2\n",
            "et-xmlfile==1.1.0\n",
            "fa2==0.3.5\n",
            "fastai==1.0.61\n",
            "fastdtw==0.3.4\n",
            "fastprogress==1.0.0\n",
            "fastrlock==0.6\n",
            "fbprophet==0.7.1\n",
            "feather-format==0.4.1\n",
            "filelock==3.0.12\n",
            "firebase-admin==4.4.0\n",
            "fix-yahoo-finance==0.0.22\n",
            "Flask==1.1.4\n",
            "flatbuffers==1.12\n",
            "folium==0.8.3\n",
            "future==0.16.0\n",
            "gast==0.4.0\n",
            "GDAL==2.2.2\n",
            "gdown==3.6.4\n",
            "gensim==3.6.0\n",
            "geographiclib==1.52\n",
            "geopy==1.17.0\n",
            "gin-config==0.4.0\n",
            "glob2==0.7\n",
            "google==2.0.3\n",
            "google-api-core==1.26.3\n",
            "google-api-python-client==1.12.8\n",
            "google-auth==1.34.0\n",
            "google-auth-httplib2==0.0.4\n",
            "google-auth-oauthlib==0.4.5\n",
            "google-cloud-bigquery==1.21.0\n",
            "google-cloud-bigquery-storage==1.1.0\n",
            "google-cloud-core==1.0.3\n",
            "google-cloud-datastore==1.8.0\n",
            "google-cloud-firestore==1.7.0\n",
            "google-cloud-language==1.2.0\n",
            "google-cloud-storage==1.18.1\n",
            "google-cloud-translate==1.5.0\n",
            "google-colab @ file:///colabtools/dist/google-colab-1.0.0.tar.gz\n",
            "google-pasta==0.2.0\n",
            "google-resumable-media==0.4.1\n",
            "googleapis-common-protos==1.53.0\n",
            "googledrivedownloader==0.4\n",
            "graphviz==0.10.1\n",
            "greenlet==1.1.1\n",
            "grpcio==1.39.0\n",
            "gspread==3.0.1\n",
            "gspread-dataframe==3.0.8\n",
            "gym==0.17.3\n",
            "h5py==3.1.0\n",
            "HeapDict==1.0.1\n",
            "hijri-converter==2.1.3\n",
            "holidays==0.10.5.2\n",
            "holoviews==1.14.5\n",
            "html5lib==1.0.1\n",
            "httpimport==0.5.18\n",
            "httplib2==0.17.4\n",
            "httplib2shim==0.0.3\n",
            "humanize==0.5.1\n",
            "hyperopt==0.1.2\n",
            "ideep4py==2.0.0.post3\n",
            "idna==2.10\n",
            "imageio==2.4.1\n",
            "imagesize==1.2.0\n",
            "imbalanced-learn==0.4.3\n",
            "imblearn==0.0\n",
            "imgaug==0.2.9\n",
            "importlib-metadata==4.6.4\n",
            "importlib-resources==5.2.2\n",
            "imutils==0.5.4\n",
            "inflect==2.1.0\n",
            "iniconfig==1.1.1\n",
            "intel-openmp==2021.3.0\n",
            "intervaltree==2.1.0\n",
            "ipykernel==4.10.1\n",
            "ipython==5.5.0\n",
            "ipython-genutils==0.2.0\n",
            "ipython-sql==0.3.9\n",
            "ipywidgets==7.6.3\n",
            "itsdangerous==1.1.0\n",
            "jax==0.2.19\n",
            "jaxlib @ https://storage.googleapis.com/jax-releases/cuda110/jaxlib-0.1.70+cuda110-cp37-none-manylinux2010_x86_64.whl\n",
            "jdcal==1.4.1\n",
            "jedi==0.18.0\n",
            "jieba==0.42.1\n",
            "Jinja2==2.11.3\n",
            "joblib==1.0.1\n",
            "jpeg4py==0.1.4\n",
            "jsonschema==2.6.0\n",
            "jupyter==1.0.0\n",
            "jupyter-client==5.3.5\n",
            "jupyter-console==5.2.0\n",
            "jupyter-core==4.7.1\n",
            "jupyterlab-pygments==0.1.2\n",
            "jupyterlab-widgets==1.0.0\n",
            "kaggle==1.5.12\n",
            "kapre==0.3.5\n",
            "keras==2.6.0\n",
            "Keras-Preprocessing==1.1.2\n",
            "keras-vis==0.4.1\n",
            "kiwisolver==1.3.1\n",
            "korean-lunar-calendar==0.2.1\n",
            "librosa==0.8.1\n",
            "lightgbm==2.2.3\n",
            "llvmlite==0.34.0\n",
            "lmdb==0.99\n",
            "LunarCalendar==0.0.9\n",
            "lxml==4.2.6\n",
            "Markdown==3.3.4\n",
            "MarkupSafe==2.0.1\n",
            "matplotlib==3.2.2\n",
            "matplotlib-inline==0.1.2\n",
            "matplotlib-venn==0.11.6\n",
            "missingno==0.5.0\n",
            "mistune==0.8.4\n",
            "mizani==0.6.0\n",
            "mkl==2019.0\n",
            "mlxtend==0.14.0\n",
            "more-itertools==8.8.0\n",
            "moviepy==0.2.3.5\n",
            "mpmath==1.2.1\n",
            "msgpack==1.0.2\n",
            "multiprocess==0.70.12.2\n",
            "multitasking==0.0.9\n",
            "murmurhash==1.0.5\n",
            "music21==5.5.0\n",
            "natsort==5.5.0\n",
            "nbclient==0.5.4\n",
            "nbconvert==5.6.1\n",
            "nbformat==5.1.3\n",
            "nest-asyncio==1.5.1\n",
            "netCDF4==1.5.7\n",
            "networkx==2.6.2\n",
            "nibabel==3.0.2\n",
            "nltk==3.2.5\n",
            "notebook==5.3.1\n",
            "numba==0.51.2\n",
            "numexpr==2.7.3\n",
            "numpy==1.19.5\n",
            "nvidia-ml-py3==7.352.0\n",
            "oauth2client==4.1.3\n",
            "oauthlib==3.1.1\n",
            "okgrade==0.4.3\n",
            "opencv-contrib-python==4.1.2.30\n",
            "opencv-python==4.1.2.30\n",
            "openpyxl==2.5.9\n",
            "opt-einsum==3.3.0\n",
            "osqp==0.6.2.post0\n",
            "packaging==21.0\n",
            "palettable==3.3.0\n",
            "pandas==1.1.5\n",
            "pandas-datareader==0.9.0\n",
            "pandas-gbq==0.13.3\n",
            "pandas-profiling==1.4.1\n",
            "pandocfilters==1.4.3\n",
            "panel==0.12.1\n",
            "param==1.11.1\n",
            "parso==0.8.2\n",
            "pathlib==1.0.1\n",
            "patsy==0.5.1\n",
            "pep517==0.11.0\n",
            "pexpect==4.8.0\n",
            "pickleshare==0.7.5\n",
            "Pillow==7.1.2\n",
            "pip-tools==6.2.0\n",
            "plac==1.1.3\n",
            "plotly==4.4.1\n",
            "plotnine==0.6.0\n",
            "pluggy==0.7.1\n",
            "pooch==1.4.0\n",
            "portpicker==1.3.9\n",
            "prefetch-generator==1.0.1\n",
            "preshed==3.0.5\n",
            "prettytable==2.1.0\n",
            "progressbar2==3.38.0\n",
            "prometheus-client==0.11.0\n",
            "promise==2.3\n",
            "prompt-toolkit==1.0.18\n",
            "protobuf==3.17.3\n",
            "psutil==5.4.8\n",
            "psycopg2==2.7.6.1\n",
            "ptyprocess==0.7.0\n",
            "py==1.10.0\n",
            "pyarrow==3.0.0\n",
            "pyasn1==0.4.8\n",
            "pyasn1-modules==0.2.8\n",
            "pycocotools==2.0.2\n",
            "pycparser==2.20\n",
            "pyct==0.4.8\n",
            "pydata-google-auth==1.2.0\n",
            "pydot==1.3.0\n",
            "pydot-ng==2.0.0\n",
            "pydotplus==2.0.2\n",
            "PyDrive==1.3.1\n",
            "pyemd==0.5.1\n",
            "pyerfa==2.0.0\n",
            "pyglet==1.5.0\n",
            "Pygments==2.6.1\n",
            "pygobject==3.26.1\n",
            "pymc3==3.11.2\n",
            "PyMeeus==0.5.11\n",
            "pymongo==3.12.0\n",
            "pymystem3==0.2.0\n",
            "PyOpenGL==3.1.5\n",
            "pyparsing==2.4.7\n",
            "pyrsistent==0.18.0\n",
            "pysndfile==1.3.8\n",
            "PySocks==1.7.1\n",
            "pystan==2.19.1.1\n",
            "pytest==3.6.4\n",
            "python-apt==0.0.0\n",
            "python-chess==0.23.11\n",
            "python-dateutil==2.8.2\n",
            "python-louvain==0.15\n",
            "python-slugify==5.0.2\n",
            "python-utils==2.5.6\n",
            "pytz==2018.9\n",
            "pyviz-comms==2.1.0\n",
            "PyWavelets==1.1.1\n",
            "PyYAML==3.13\n",
            "pyzmq==22.2.1\n",
            "qdldl==0.1.5.post0\n",
            "qtconsole==5.1.1\n",
            "QtPy==1.10.0\n",
            "regex==2019.12.20\n",
            "requests==2.23.0\n",
            "requests-oauthlib==1.3.0\n",
            "resampy==0.2.2\n",
            "retrying==1.3.3\n",
            "rpy2==3.4.5\n",
            "rsa==4.7.2\n",
            "scikit-image==0.16.2\n",
            "scikit-learn==0.22.2.post1\n",
            "scipy==1.4.1\n",
            "screen-resolution-extra==0.0.0\n",
            "scs==2.1.4\n",
            "seaborn==0.11.1\n",
            "semver==2.13.0\n",
            "Send2Trash==1.8.0\n",
            "setuptools-git==1.2\n",
            "Shapely==1.7.1\n",
            "simplegeneric==0.8.1\n",
            "six==1.15.0\n",
            "sklearn==0.0\n",
            "sklearn-pandas==1.8.0\n",
            "smart-open==5.1.0\n",
            "snowballstemmer==2.1.0\n",
            "sortedcontainers==2.4.0\n",
            "SoundFile==0.10.3.post1\n",
            "spacy==2.2.4\n",
            "Sphinx==1.8.5\n",
            "sphinxcontrib-serializinghtml==1.1.5\n",
            "sphinxcontrib-websupport==1.2.4\n",
            "SQLAlchemy==1.4.22\n",
            "sqlparse==0.4.1\n",
            "srsly==1.0.5\n",
            "statsmodels==0.10.2\n",
            "sympy==1.7.1\n",
            "tables==3.4.4\n",
            "tabulate==0.8.9\n",
            "tblib==1.7.0\n",
            "tensorboard==2.6.0\n",
            "tensorboard-data-server==0.6.1\n",
            "tensorboard-plugin-wit==1.8.0\n",
            "tensorflow @ file:///tensorflow-2.6.0-cp37-cp37m-linux_x86_64.whl\n",
            "tensorflow-datasets==4.0.1\n",
            "tensorflow-estimator==2.6.0\n",
            "tensorflow-gcs-config==2.6.0\n",
            "tensorflow-hub==0.12.0\n",
            "tensorflow-metadata==1.2.0\n",
            "tensorflow-probability==0.13.0\n",
            "termcolor==1.1.0\n",
            "terminado==0.11.0\n",
            "testpath==0.5.0\n",
            "text-unidecode==1.3\n",
            "textblob==0.15.3\n",
            "Theano-PyMC==1.1.2\n",
            "thinc==7.4.0\n",
            "tifffile==2021.8.30\n",
            "toml==0.10.2\n",
            "tomli==1.2.1\n",
            "toolz==0.11.1\n",
            "torch @ https://download.pytorch.org/whl/cu102/torch-1.9.0%2Bcu102-cp37-cp37m-linux_x86_64.whl\n",
            "torchsummary==1.5.1\n",
            "torchtext==0.10.0\n",
            "torchvision @ https://download.pytorch.org/whl/cu102/torchvision-0.10.0%2Bcu102-cp37-cp37m-linux_x86_64.whl\n",
            "tornado==5.1.1\n",
            "tqdm==4.62.0\n",
            "traitlets==5.0.5\n",
            "tweepy==3.10.0\n",
            "typeguard==2.7.1\n",
            "typing-extensions==3.7.4.3\n",
            "tzlocal==1.5.1\n",
            "uritemplate==3.0.1\n",
            "urllib3==1.24.3\n",
            "vega-datasets==0.9.0\n",
            "wasabi==0.8.2\n",
            "wcwidth==0.2.5\n",
            "webencodings==0.5.1\n",
            "Werkzeug==1.0.1\n",
            "widgetsnbextension==3.5.1\n",
            "wordcloud==1.5.0\n",
            "wrapt==1.12.1\n",
            "xarray==0.18.2\n",
            "xgboost==0.90\n",
            "xkit==0.0.0\n",
            "xlrd==1.1.0\n",
            "xlwt==1.3.0\n",
            "yellowbrick==0.9.1\n",
            "zict==2.0.0\n",
            "zipp==3.5.0\n"
          ]
        }
      ]
    },
    {
      "cell_type": "code",
      "metadata": {
        "id": "yodxoSsNZzhe",
        "colab": {
          "base_uri": "https://localhost:8080/",
          "height": 35
        },
        "outputId": "c9a70cfe-3f9a-4de2-9576-1ef48ea912ce"
      },
      "source": [
        "import numpy as np\n",
        "np.version.version"
      ],
      "execution_count": 2,
      "outputs": [
        {
          "output_type": "execute_result",
          "data": {
            "application/vnd.google.colaboratory.intrinsic+json": {
              "type": "string"
            },
            "text/plain": [
              "'1.19.5'"
            ]
          },
          "metadata": {},
          "execution_count": 2
        }
      ]
    },
    {
      "cell_type": "markdown",
      "metadata": {
        "id": "RfOLEzdF5itr"
      },
      "source": [
        "# NumPy Array\n",
        "\n",
        "Kita bisa menggambarkan vector maupun matrix menggunakan **numpy array** atau jika kita cek tipenya adalah 'numpy.ndarray'.\n",
        "\n",
        "Apa itu **ndarray**? N-dimensional array.\n",
        "\n",
        "Sebagai contoh kita membuat numpy array kosong, dari sebuah tipe `list` dari python.\n",
        "\n",
        "```\n",
        "a = np.array([])\n",
        "print(type(a)) #  numpy.ndarray\n",
        "```\n",
        "\n",
        "atau bisa juga menggunakan method `empty()`.\n",
        "```\n",
        "a = np.empty(0)\n",
        "print(a.shape)\n",
        "print(a.dtype)\n",
        "```\n",
        "\n",
        "ndarray memiliki dua atribut yang sering digunakan: `shape` dan `dtype`. keduanya akan kita bahas sambil menggunakan contoh-contoh di bawah ini."
      ]
    },
    {
      "cell_type": "code",
      "metadata": {
        "id": "EmsnhbD65_pu",
        "colab": {
          "base_uri": "https://localhost:8080/"
        },
        "outputId": "39ae3957-dd0b-4f58-c3f2-7134a4f3502b"
      },
      "source": [
        "a = np.array([])\n",
        "print(a)\n",
        "print('type: {}'.format(type(a)))\n",
        "print(a.shape)\n",
        "print(a.dtype)\n",
        "\n"
      ],
      "execution_count": 3,
      "outputs": [
        {
          "output_type": "stream",
          "name": "stdout",
          "text": [
            "[]\n",
            "type: <class 'numpy.ndarray'>\n",
            "(0,)\n",
            "float64\n"
          ]
        }
      ]
    },
    {
      "cell_type": "markdown",
      "metadata": {
        "id": "hIv7e_1j8NAZ"
      },
      "source": [
        "# Vector\n",
        "\n",
        "Menggunakan ndarray untuk menggambarkan vector. Misalnya kita ingin membuat sebuah vector dengan 5 elemen semua berisi angka 0.\n",
        "\n",
        "```\n",
        "a = np.zeros(5)\n",
        "print(a)\n",
        "```\n",
        "\n",
        "tampil dengan angka 0. karena tipe data yang ada dalam vector tersebut adalah float64. bisa dicek dengan memanggil atribut dtype dari ndarray.\n",
        "\n",
        "```\n",
        "print(a.dtype)\n",
        "```\n",
        "\n",
        "**zeros**\n",
        "\n",
        "`zeros()` adalah method dari numpy untuk menghasilkan array dengan `shape` (bentuk, ukuran) yang kita inginkan, kemudian mengisi seluruh isi array dengan 0. atau nilai _zero_ dalam float64.\n",
        "\n",
        "\n",
        "**ones**\n",
        "\n",
        "`ones()` seperti halnya `zeros()` tentunya diisi dengan 1. atau nilai _one_ dalam float64.\n",
        "\n",
        "```\n",
        "a = np.ones(3)\n",
        "print(a)\n",
        "```\n"
      ]
    },
    {
      "cell_type": "code",
      "metadata": {
        "id": "VNd0yxPo7_2W",
        "colab": {
          "base_uri": "https://localhost:8080/"
        },
        "outputId": "8af906db-edb6-4913-c121-0de50f8953a7"
      },
      "source": [
        "a = np.zeros(5)\n",
        "print(a)\n",
        "print(a.dtype)\n",
        "\n",
        "print()  # prettify :p\n",
        "\n",
        "a = np.ones(3)\n",
        "print(a)\n",
        "print(a.shape)\n",
        "\n",
        "print()  # prettify :p\n",
        "\n",
        "a = np.ones(3, dtype=int)\n",
        "print(a)\n",
        "\n"
      ],
      "execution_count": 4,
      "outputs": [
        {
          "output_type": "stream",
          "name": "stdout",
          "text": [
            "[0. 0. 0. 0. 0.]\n",
            "float64\n",
            "\n",
            "[1. 1. 1.]\n",
            "(3,)\n",
            "\n",
            "[1 1 1]\n"
          ]
        }
      ]
    },
    {
      "cell_type": "markdown",
      "metadata": {
        "id": "Zx652RcJxipQ"
      },
      "source": [
        "Akses elemen dari ndarray, dalam hal ini representasi Vector seperti halnya akses elemen dari `list` di Python.\n"
      ]
    },
    {
      "cell_type": "code",
      "metadata": {
        "id": "7TqMS46NxAPo",
        "colab": {
          "base_uri": "https://localhost:8080/"
        },
        "outputId": "81dacce3-0a8f-40fc-b4d9-e643c6c558dd"
      },
      "source": [
        "a = np.array([1, 2, 3, 4, 5], dtype=int)\n",
        "print(type(a))\n",
        "print(a)\n",
        "print(a[0])\n",
        "print(a[1])\n",
        "print(a[-1])\n",
        "print(a[1:3])\n",
        "print(a[::-1])\n",
        "print(len(a))\n",
        "print(a[:])\n"
      ],
      "execution_count": 5,
      "outputs": [
        {
          "output_type": "stream",
          "name": "stdout",
          "text": [
            "<class 'numpy.ndarray'>\n",
            "[1 2 3 4 5]\n",
            "1\n",
            "2\n",
            "5\n",
            "[2 3]\n",
            "[5 4 3 2 1]\n",
            "5\n",
            "[1 2 3 4 5]\n"
          ]
        }
      ]
    },
    {
      "cell_type": "markdown",
      "metadata": {
        "id": "W099bdQq-dYZ"
      },
      "source": [
        "# Matrix\n",
        "\n",
        "Menggunakan ndarray untuk menggambarkan matrix. Misalnya menggambarkan matrix 2 dimensi atau 3 dimensi.\n",
        "\n",
        "Kembali menggunakan `zeros` atau `ones`, shape atau bentuk yang kita berikan sebagai argument ke `zeros` atau `ones` bisa juga lebih dari 1 dimensi (vector).\n",
        "\n",
        "```\n",
        "a = np.zeros((2, 3)) # penulisan dengan tuple (2, 3)\n",
        "print(a)\n",
        "\n",
        "a = np.zeros([2, 3])  # penulisan dengan list [2, 3]\n",
        "print(a)\n",
        "```\n",
        "\n",
        "Akan menghasilkan sebuah matrix dua dimensi dengan 2 `rows` dan 3 `columns`.\n",
        "\n",
        "Untuk menghasilkan nilai random dari nilai 0.0 (termasuk 0.0) hingga kurang dari 1.0 (tidak termasuk 1.0), menggunakan `np.random.random_sample()`.\n",
        "\n"
      ]
    },
    {
      "cell_type": "code",
      "metadata": {
        "id": "rr7DR3mI_DTe",
        "colab": {
          "base_uri": "https://localhost:8080/"
        },
        "outputId": "5e4df49e-0948-44cf-ed9b-de728e2e1697"
      },
      "source": [
        "a = np.zeros((2, 3))\n",
        "print('matrix a:\\n{}'.format(a))\n",
        "print('\\nmatrix ini memiliki bentuk (shape): {}'.format(a.shape))\n",
        "\n",
        "print()  # prettify :p\n",
        "\n",
        "r = np.random.random_sample((2, 3))  # random [0.0, 1.0)\n",
        "print('matrix r:\\n{}'.format(r))\n",
        "print('\\nmatrix ini memiliki bentuk (shape): {}'.format(r.shape))\n",
        "\n"
      ],
      "execution_count": 6,
      "outputs": [
        {
          "output_type": "stream",
          "name": "stdout",
          "text": [
            "matrix a:\n",
            "[[0. 0. 0.]\n",
            " [0. 0. 0.]]\n",
            "\n",
            "matrix ini memiliki bentuk (shape): (2, 3)\n",
            "\n",
            "matrix r:\n",
            "[[0.7386126  0.67258621 0.0672309 ]\n",
            " [0.75572037 0.83098224 0.73195656]]\n",
            "\n",
            "matrix ini memiliki bentuk (shape): (2, 3)\n"
          ]
        }
      ]
    },
    {
      "cell_type": "markdown",
      "metadata": {
        "id": "B2M3IPsWBMH-"
      },
      "source": [
        "Dengan cara yang sama tentu saja kita bisa membuat matrix 3 dimensi menggunakan shape 3 angka.\n",
        "\n",
        "_Arrays in NumPy are printed as the word array followed by structure, similar to embedded Python lists._ [ref](https://https://stackoverflow.com/a/22982371/3991504)"
      ]
    },
    {
      "cell_type": "code",
      "metadata": {
        "id": "N2frPEC4_C79",
        "colab": {
          "base_uri": "https://localhost:8080/"
        },
        "outputId": "23a59c8d-2980-4f54-d8b5-b1b0590a7fc6"
      },
      "source": [
        "a = np.ones((2, 3, 4))\n",
        "print(a)\n",
        "print('\\nmatrix ini memiliki bentuk (shape): {}'.format(a.shape))\n"
      ],
      "execution_count": 7,
      "outputs": [
        {
          "output_type": "stream",
          "name": "stdout",
          "text": [
            "[[[1. 1. 1. 1.]\n",
            "  [1. 1. 1. 1.]\n",
            "  [1. 1. 1. 1.]]\n",
            "\n",
            " [[1. 1. 1. 1.]\n",
            "  [1. 1. 1. 1.]\n",
            "  [1. 1. 1. 1.]]]\n",
            "\n",
            "matrix ini memiliki bentuk (shape): (2, 3, 4)\n"
          ]
        }
      ]
    },
    {
      "cell_type": "markdown",
      "metadata": {
        "id": "ymdGl5eHgIx_"
      },
      "source": [
        "# Matrix Identitas\n",
        "\n",
        "Matrix identitas adalah matriks persegi (jumlah baris dan kolomnya sama) yang elemennya berisi `zero` kecuali diagonal dari kiri-atas-ke-kanan-bawah berisi `one`.\n",
        "\n",
        "contoh membuat matrix identitas 5x5\n",
        "```\n",
        "a = np.identity(5)\n",
        "print(a)\n",
        "```\n"
      ]
    },
    {
      "cell_type": "code",
      "metadata": {
        "id": "zSAwBGvvhQWU",
        "colab": {
          "base_uri": "https://localhost:8080/"
        },
        "outputId": "7f30cbf9-ce93-488c-ff80-c7c7df0bee9d"
      },
      "source": [
        "a = np.identity(5)\n",
        "print('matrix identitas 5\\n{}'.format(a))\n"
      ],
      "execution_count": 8,
      "outputs": [
        {
          "output_type": "stream",
          "name": "stdout",
          "text": [
            "matrix identitas 5\n",
            "[[1. 0. 0. 0. 0.]\n",
            " [0. 1. 0. 0. 0.]\n",
            " [0. 0. 1. 0. 0.]\n",
            " [0. 0. 0. 1. 0.]\n",
            " [0. 0. 0. 0. 1.]]\n"
          ]
        }
      ]
    },
    {
      "cell_type": "markdown",
      "metadata": {
        "id": "6shI52PCbH_t"
      },
      "source": [
        "# Matrix Operasi Transpose\n",
        "\n",
        "Transpose adalah operasi matrix, dimana baris diubah menjadi kolom.\n",
        "\n",
        "Melakukan operasi transpose dari matrix bisa menggunakan `np.transpose()` atau method `transpose` dari ndarray.\n",
        "\n",
        "Matrix identitas dioperasi transpose akan menghasilkan matrix identitas yang sama.\n",
        "```\n",
        "a = np.identity(3)\n",
        "a.transpose()\n",
        "print(a)\n",
        "```\n",
        "\n",
        "selain menggunakan method `transpose()` dari ndarray, bisa juga mengakses transpose dari atribut `T` suatu ndarray.\n",
        "```\n",
        "print(a.T)\n",
        "```\n"
      ]
    },
    {
      "cell_type": "code",
      "metadata": {
        "id": "MG7yeH5VmDi0",
        "colab": {
          "base_uri": "https://localhost:8080/"
        },
        "outputId": "ff6c31a9-1436-4509-8aa9-7ceae7137758"
      },
      "source": [
        "a = np.array([[1, 2, 3], [4, 5, 6], [7, 8, 9]])\n",
        "print('matrix aT:\\n{}'.format(np.transpose(a)))\n",
        "\n",
        "print()  # prettify :p\n",
        "\n",
        "print('matrix a: (still)\\n{}'.format(a))\n",
        "\n",
        "print()  # prettify :p\n",
        "\n",
        "a = np.identity(3)\n",
        "print(a.transpose())\n",
        "\n",
        "print()  # prettify :p\n",
        "\n",
        "print(a.T)\n"
      ],
      "execution_count": 9,
      "outputs": [
        {
          "output_type": "stream",
          "name": "stdout",
          "text": [
            "matrix aT:\n",
            "[[1 4 7]\n",
            " [2 5 8]\n",
            " [3 6 9]]\n",
            "\n",
            "matrix a: (still)\n",
            "[[1 2 3]\n",
            " [4 5 6]\n",
            " [7 8 9]]\n",
            "\n",
            "[[1. 0. 0.]\n",
            " [0. 1. 0.]\n",
            " [0. 0. 1.]]\n",
            "\n",
            "[[1. 0. 0.]\n",
            " [0. 1. 0.]\n",
            " [0. 0. 1.]]\n"
          ]
        }
      ]
    },
    {
      "cell_type": "markdown",
      "metadata": {
        "id": "WVrH7y6qa7rW"
      },
      "source": [
        "# Matrix Operasi Perkalian (dot Product)\n",
        "\n",
        "Matrix yang dapat dikalikan, jumlah kolom dari matrix pertama sama dengan jumlah baris dari matrix kedua.\n",
        "\n",
        "Suatu matrix dikalikan dengan matrix identitas hasilnya adalah matrix itu sendiri.\n",
        "```\n",
        "m = np.array([1, 2, 3, 4, 5][6, 7, 8, 9, 0])\n",
        "i = np.identity(5)\n",
        "print('m: {} dot i: {}'.format(m.shape, i.shape)\n",
        "print(np.dot(m, i))\n",
        "\n",
        "```"
      ]
    },
    {
      "cell_type": "code",
      "metadata": {
        "id": "ON-OLtGIjbuz",
        "colab": {
          "base_uri": "https://localhost:8080/"
        },
        "outputId": "0f92ea89-0ce6-4984-ea97-1e29fa8a8cf5"
      },
      "source": [
        "m = np.array([[1, 2, 3, 4, 5],\n",
        "              [6, 7, 8, 9, 0]])\n",
        "i = np.identity(5)\n",
        "print('m: {} dot i: {}'.format(m.shape, i.shape))\n",
        "print(np.dot(m, i))\n"
      ],
      "execution_count": 10,
      "outputs": [
        {
          "output_type": "stream",
          "name": "stdout",
          "text": [
            "m: (2, 5) dot i: (5, 5)\n",
            "[[1. 2. 3. 4. 5.]\n",
            " [6. 7. 8. 9. 0.]]\n"
          ]
        }
      ]
    },
    {
      "cell_type": "markdown",
      "metadata": {
        "id": "L6FDBh8AFrL9"
      },
      "source": [
        "# Load Gambar sebagai Matrix\n",
        "\n",
        "* Cek gambar di direktori ipynb\n",
        "* Jika belum ada, **download** gambar pakai wget\n",
        "* Load Gambar sebagai Matrix di Numpy\n",
        "\n",
        "Gambar bisa hitam-putih (grayscale), berwarna (RGB), maupun berwarna dengan transparen (RGBA)"
      ]
    },
    {
      "cell_type": "code",
      "metadata": {
        "id": "PFC0eVpHF5UE",
        "colab": {
          "base_uri": "https://localhost:8080/"
        },
        "outputId": "aa5b89cf-1582-4afb-cb6f-d0f1b90cf7d9"
      },
      "source": [
        "import os\n",
        "os.listdir()\n"
      ],
      "execution_count": 11,
      "outputs": [
        {
          "output_type": "execute_result",
          "data": {
            "text/plain": [
              "['.config', 'sample_data']"
            ]
          },
          "metadata": {},
          "execution_count": 11
        }
      ]
    },
    {
      "cell_type": "code",
      "metadata": {
        "id": "5HbMxfszGLLf",
        "colab": {
          "base_uri": "https://localhost:8080/"
        },
        "outputId": "78e07b06-902e-4615-c67d-d0c642de597a"
      },
      "source": [
        "!wget https://www.python.org/static/community_logos/python-powered-h-70x91.png"
      ],
      "execution_count": 12,
      "outputs": [
        {
          "output_type": "stream",
          "name": "stdout",
          "text": [
            "--2021-09-16 05:43:23--  https://www.python.org/static/community_logos/python-powered-h-70x91.png\n",
            "Resolving www.python.org (www.python.org)... 151.101.200.223, 2a04:4e42:3b::223\n",
            "Connecting to www.python.org (www.python.org)|151.101.200.223|:443... connected.\n",
            "HTTP request sent, awaiting response... 200 OK\n",
            "Length: 4680 (4.6K) [image/png]\n",
            "Saving to: ‘python-powered-h-70x91.png’\n",
            "\n",
            "python-powered-h-70 100%[===================>]   4.57K  --.-KB/s    in 0s      \n",
            "\n",
            "2021-09-16 05:43:23 (48.7 MB/s) - ‘python-powered-h-70x91.png’ saved [4680/4680]\n",
            "\n"
          ]
        }
      ]
    },
    {
      "cell_type": "markdown",
      "metadata": {
        "id": "KxCUXcjTXdLp"
      },
      "source": [
        "Menggunakan pake `scikit-image`, nama paket `skimage`), untuk memroses data gambar."
      ]
    },
    {
      "cell_type": "code",
      "metadata": {
        "id": "wk7mF0d3HvBn",
        "colab": {
          "base_uri": "https://localhost:8080/",
          "height": 374
        },
        "outputId": "1742bf23-dc5a-41e0-e3c6-a82b9d252e2e"
      },
      "source": [
        "from skimage import io, color\n",
        "im = io.imread('python-powered-h-70x91.png')\n",
        "print(type(im))\n",
        "print('is the image instance of ndarray? {}'.format(isinstance(im, np.ndarray)))\n",
        "\n",
        "print() # prettify :p\n",
        "\n",
        "print('image shape: {}'.format(im.shape))\n",
        "if im.shape[2] == 4:\n",
        "  print('image in RGBA')\n",
        "  # im = color.rgba2rgb(im) # convert RGBA to RGB\n",
        "\n",
        "import matplotlib.pyplot as plt\n",
        "plt.imshow(im)\n"
      ],
      "execution_count": 13,
      "outputs": [
        {
          "output_type": "stream",
          "name": "stdout",
          "text": [
            "<class 'numpy.ndarray'>\n",
            "is the image instance of ndarray? True\n",
            "\n",
            "image shape: (91, 70, 4)\n",
            "image in RGBA\n"
          ]
        },
        {
          "output_type": "execute_result",
          "data": {
            "text/plain": [
              "<matplotlib.image.AxesImage at 0x7fb10051a990>"
            ]
          },
          "metadata": {},
          "execution_count": 13
        },
        {
          "output_type": "display_data",
          "data": {
            "image/png": "[encoded data removed]",
            "text/plain": [
              "<Figure size 432x288 with 1 Axes>"
            ]
          },
          "metadata": {
            "needs_background": "light"
          }
        }
      ]
    },
    {
      "cell_type": "markdown",
      "metadata": {
        "id": "NVqjvcDjX0uq"
      },
      "source": [
        "Membalik baris dari ndarray, representasi matrix."
      ]
    },
    {
      "cell_type": "code",
      "metadata": {
        "id": "RndbJATUUTSv",
        "colab": {
          "base_uri": "https://localhost:8080/",
          "height": 286
        },
        "outputId": "b7253fca-af3a-41c9-8a24-ae866f44516e"
      },
      "source": [
        "plt.imshow(im[::-1])"
      ],
      "execution_count": 14,
      "outputs": [
        {
          "output_type": "execute_result",
          "data": {
            "text/plain": [
              "<matplotlib.image.AxesImage at 0x7fb0efa5dfd0>"
            ]
          },
          "metadata": {},
          "execution_count": 14
        },
        {
          "output_type": "display_data",
          "data": {
            "image/png": "[encoded data removed]",
            "text/plain": [
              "<Figure size 432x288 with 1 Axes>"
            ]
          },
          "metadata": {
            "needs_background": "light"
          }
        }
      ]
    },
    {
      "cell_type": "markdown",
      "metadata": {
        "id": "Wy7nM2cYX7ku"
      },
      "source": [
        "Mempertahankan baris, membalik kolom dari ndarray, representasi matrix."
      ]
    },
    {
      "cell_type": "code",
      "metadata": {
        "id": "hfrW2qyOUiBH",
        "colab": {
          "base_uri": "https://localhost:8080/",
          "height": 286
        },
        "outputId": "d4969e03-639f-4df7-90ef-d4bbe162dd07"
      },
      "source": [
        "plt.imshow(im[:, ::-1])"
      ],
      "execution_count": 15,
      "outputs": [
        {
          "output_type": "execute_result",
          "data": {
            "text/plain": [
              "<matplotlib.image.AxesImage at 0x7fb0ef9cb5d0>"
            ]
          },
          "metadata": {},
          "execution_count": 15
        },
        {
          "output_type": "display_data",
          "data": {
            "image/png": "[encoded data removed]",
            "text/plain": [
              "<Figure size 432x288 with 1 Axes>"
            ]
          },
          "metadata": {
            "needs_background": "light"
          }
        }
      ]
    },
    {
      "cell_type": "markdown",
      "metadata": {
        "id": "nmQz-A-PYD8Q"
      },
      "source": [
        "Memotong (slice) sebagian baris dan kolom dari ndarray, representasi matrix."
      ]
    },
    {
      "cell_type": "code",
      "metadata": {
        "id": "eXaP6OwMKIy9",
        "colab": {
          "base_uri": "https://localhost:8080/",
          "height": 285
        },
        "outputId": "07b9fcf0-6eab-4c12-962d-9fb23981191d"
      },
      "source": [
        "plt.imshow(im[26:70, 12:58])\n"
      ],
      "execution_count": 16,
      "outputs": [
        {
          "output_type": "execute_result",
          "data": {
            "text/plain": [
              "<matplotlib.image.AxesImage at 0x7fb0ef9adb10>"
            ]
          },
          "metadata": {},
          "execution_count": 16
        },
        {
          "output_type": "display_data",
          "data": {
            "image/png": "[encoded data removed]",
            "text/plain": [
              "<Figure size 432x288 with 1 Axes>"
            ]
          },
          "metadata": {
            "needs_background": "light"
          }
        }
      ]
    },
    {
      "cell_type": "markdown",
      "metadata": {
        "id": "Mb9EZ-FbqIeA"
      },
      "source": [
        "# Melakukan plot Matrix\n",
        "\n",
        "Dari `scikit-learn` nama paketnya `sklearn`, dengan dataset MNIST.\n",
        "\n",
        "Dengan `matplotlib` dapat menampilkan ndarray sebagai image menggunakan method `imshow()`."
      ]
    },
    {
      "cell_type": "code",
      "metadata": {
        "id": "8MKkp6zegJ_j",
        "colab": {
          "base_uri": "https://localhost:8080/",
          "height": 527
        },
        "outputId": "84c1f2cf-669a-4370-e6c3-b8a4a44d5647"
      },
      "source": [
        "from sklearn import datasets\n",
        "\n",
        "# The digits dataset\n",
        "digits = datasets.load_digits()\n",
        "print(type(digits.images))\n",
        "print(digits.images.shape)\n",
        "\n",
        "print(type(digits.target))\n",
        "print(digits.target.shape)\n",
        "\n",
        "# Standard scientific Python imports\n",
        "import matplotlib.pyplot as plt\n",
        "\n",
        "image = digits.images[180]\n",
        "print('image type: {}'.format(type(image)))\n",
        "print(image)\n",
        "label = digits.target[180]\n",
        "plt.imshow(image, cmap=plt.cm.gray_r, interpolation='nearest')\n",
        "plt.title('Training: %i' % label)\n",
        "\n",
        "# transpose\n",
        "# plt.imshow(image.T)\n"
      ],
      "execution_count": 17,
      "outputs": [
        {
          "output_type": "stream",
          "name": "stdout",
          "text": [
            "<class 'numpy.ndarray'>\n",
            "(1797, 8, 8)\n",
            "<class 'numpy.ndarray'>\n",
            "(1797,)\n",
            "image type: <class 'numpy.ndarray'>\n",
            "[[ 0.  0.  7. 15. 15.  4.  0.  0.]\n",
            " [ 0.  8. 16. 16. 16.  4.  0.  0.]\n",
            " [ 0.  8. 15.  8. 16.  4.  0.  0.]\n",
            " [ 0.  0.  0. 10. 15.  0.  0.  0.]\n",
            " [ 0.  0.  1. 15.  9.  0.  0.  0.]\n",
            " [ 0.  0.  6. 16.  2.  0.  0.  0.]\n",
            " [ 0.  0.  8. 16.  8. 11.  9.  0.]\n",
            " [ 0.  0.  9. 16. 16. 12.  3.  0.]]\n"
          ]
        },
        {
          "output_type": "execute_result",
          "data": {
            "text/plain": [
              "Text(0.5, 1.0, 'Training: 2')"
            ]
          },
          "metadata": {},
          "execution_count": 17
        },
        {
          "output_type": "display_data",
          "data": {
            "image/png": "[encoded data removed]",
            "text/plain": [
              "<Figure size 432x288 with 1 Axes>"
            ]
          },
          "metadata": {
            "needs_background": "light"
          }
        }
      ]
    },
    {
      "cell_type": "markdown",
      "metadata": {
        "id": "2z0QiW2un1zd"
      },
      "source": [
        "\n",
        "\n",
        "# Reshape Matrix\n",
        "\n",
        "TBD\n",
        "\n",
        "\n",
        "https://youtu.be/aircAruvnKk?t=183\n",
        "\n",
        "\n"
      ]
    },
    {
      "cell_type": "code",
      "metadata": {
        "id": "7JBi1n4DYWMl",
        "colab": {
          "base_uri": "https://localhost:8080/"
        },
        "outputId": "e7551d44-6f74-42e5-dff3-4af13d142080"
      },
      "source": [
        "print(image.reshape((1, 64)))\n",
        "\n",
        "print(image.reshape((2, 32)))"
      ],
      "execution_count": 18,
      "outputs": [
        {
          "output_type": "stream",
          "name": "stdout",
          "text": [
            "[[ 0.  0.  7. 15. 15.  4.  0.  0.  0.  8. 16. 16. 16.  4.  0.  0.  0.  8.\n",
            "  15.  8. 16.  4.  0.  0.  0.  0.  0. 10. 15.  0.  0.  0.  0.  0.  1. 15.\n",
            "   9.  0.  0.  0.  0.  0.  6. 16.  2.  0.  0.  0.  0.  0.  8. 16.  8. 11.\n",
            "   9.  0.  0.  0.  9. 16. 16. 12.  3.  0.]]\n",
            "[[ 0.  0.  7. 15. 15.  4.  0.  0.  0.  8. 16. 16. 16.  4.  0.  0.  0.  8.\n",
            "  15.  8. 16.  4.  0.  0.  0.  0.  0. 10. 15.  0.  0.  0.]\n",
            " [ 0.  0.  1. 15.  9.  0.  0.  0.  0.  0.  6. 16.  2.  0.  0.  0.  0.  0.\n",
            "   8. 16.  8. 11.  9.  0.  0.  0.  9. 16. 16. 12.  3.  0.]]\n"
          ]
        }
      ]
    },
    {
      "cell_type": "markdown",
      "metadata": {
        "id": "_tkABuuc1RBa"
      },
      "source": [
        "# Operasi pada NumPy Array\n",
        "\n",
        "matrix inverse syaratnya:\n",
        "\n"
      ]
    },
    {
      "cell_type": "code",
      "metadata": {
        "id": "CJ78hAm0sVAm",
        "colab": {
          "base_uri": "https://localhost:8080/"
        },
        "outputId": "8f6a95c6-1785-4fc6-c0e2-f7b08a894a4a"
      },
      "source": [
        "a = np.array([[4, 7], [2, 6]])\n",
        "print(a)\n",
        "\n",
        "print()\n",
        "b = np.linalg.inv(a)\n",
        "print(b)\n",
        "\n",
        "# A . A-1 = I\n",
        "print(a.dot(b))\n",
        "\n",
        "print(np.linalg.det(a))\n",
        "\n",
        "x = np.array([[3, 0, 2], [2, 0, -2], [0, 1, 1]])\n",
        "print(np.linalg.inv(x))\n"
      ],
      "execution_count": 19,
      "outputs": [
        {
          "output_type": "stream",
          "name": "stdout",
          "text": [
            "[[4 7]\n",
            " [2 6]]\n",
            "\n",
            "[[ 0.6 -0.7]\n",
            " [-0.2  0.4]]\n",
            "[[ 1.00000000e+00 -1.11022302e-16]\n",
            " [-1.11022302e-16  1.00000000e+00]]\n",
            "10.000000000000002\n",
            "[[ 0.2  0.2  0. ]\n",
            " [-0.2  0.3  1. ]\n",
            " [ 0.2 -0.3 -0. ]]\n"
          ]
        }
      ]
    },
    {
      "cell_type": "code",
      "metadata": {
        "id": "41MojNkJ1WOs",
        "colab": {
          "base_uri": "https://localhost:8080/"
        },
        "outputId": "98a0a357-9172-4459-bab0-fcbad41c2056"
      },
      "source": [
        "a = np.array([[1, 2, 3], [4, 5, 6], [7, 8, 9]])\n",
        "i = np.identity(3, dtype=int)\n",
        "\n",
        "print(a + i)\n",
        "\n",
        "# singular matrix\n",
        "# print(np.linalg.inv(a)) # dont do this at home :p \n",
        "\n",
        "print() # prettify :p\n",
        "\n",
        "b = a < 5\n",
        "print(b)\n",
        "\n",
        "print() # prettify :p\n",
        "\n",
        "print(a[a > 5])\n",
        "\n",
        "print() # prettify :p\n",
        "\n",
        "c = np.where(a < 5, 0, 1)\n",
        "print(c)\n",
        "\n",
        "print() # prettify :p\n",
        "\n",
        "d = 10 * a\n",
        "print(d)\n",
        "\n",
        "print(d / 100)\n",
        "\n",
        "print() # prettify :p\n",
        "\n",
        "print(np.sum(a))\n",
        "print(np.mean(a))\n",
        "print(np.min(a))\n",
        "print(np.max(a))\n",
        "print(np.argmin(a))\n",
        "print(np.argmax(a))\n",
        "print(np.std(a))\n"
      ],
      "execution_count": 20,
      "outputs": [
        {
          "output_type": "stream",
          "name": "stdout",
          "text": [
            "[[ 2  2  3]\n",
            " [ 4  6  6]\n",
            " [ 7  8 10]]\n",
            "\n",
            "[[ True  True  True]\n",
            " [ True False False]\n",
            " [False False False]]\n",
            "\n",
            "[6 7 8 9]\n",
            "\n",
            "[[0 0 0]\n",
            " [0 1 1]\n",
            " [1 1 1]]\n",
            "\n",
            "[[10 20 30]\n",
            " [40 50 60]\n",
            " [70 80 90]]\n",
            "[[0.1 0.2 0.3]\n",
            " [0.4 0.5 0.6]\n",
            " [0.7 0.8 0.9]]\n",
            "\n",
            "45\n",
            "5.0\n",
            "1\n",
            "9\n",
            "0\n",
            "8\n",
            "2.581988897471611\n"
          ]
        }
      ]
    },
    {
      "cell_type": "markdown",
      "metadata": {
        "id": "waUHSdTIbWyR"
      },
      "source": [
        "# Contoh Penggunaan NumPy di Machine Learning\n",
        "\n",
        "contoh plot_digits_classification.ipynb dari Scikit-Learn yang sudah dilengkapi dengan komentar dan penjelasan per masing-masing bagian.\n",
        "\n",
        "Untuk pengolahan citra (gambar)\n",
        "\n",
        "MNIST\n",
        "\n",
        "https://colab.research.google.com/github/nurimammasri/Wooky-Numpy/blob/main/Plot%20Digits%20Classification.ipynb\n",
        "\n",
        "Untuk pengolahan teks\n",
        "\n",
        "Bag of Words\n",
        "\n",
        "https://scikit-learn.org/stable/tutorial/text_analytics/working_with_text_data.html\n",
        "\n"
      ]
    },
    {
      "cell_type": "markdown",
      "metadata": {
        "id": "M3RkUHU1lF6o"
      },
      "source": [
        "# Pranala\n",
        "\n",
        "\n",
        "\n",
        "https://jakevdp.github.io/PythonDataScienceHandbook/02.02-the-basics-of-numpy-arrays.html\n",
        "\n",
        "https://scikit-image.org/docs/dev/user_guide/transforming_image_data.html\n",
        "\n",
        "\n"
      ]
    }
  ]
}