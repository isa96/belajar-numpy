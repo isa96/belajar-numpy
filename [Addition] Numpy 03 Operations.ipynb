{
  "nbformat": 4,
  "nbformat_minor": 0,
  "metadata": {
    "colab": {
      "name": "[Addition] Numpy 03 Operations.ipynb",
      "provenance": [],
      "collapsed_sections": []
    },
    "kernelspec": {
      "display_name": "Python 3",
      "language": "python",
      "name": "python3"
    },
    "language_info": {
      "codemirror_mode": {
        "name": "ipython",
        "version": 3
      },
      "file_extension": ".py",
      "mimetype": "text/x-python",
      "name": "python",
      "nbconvert_exporter": "python",
      "pygments_lexer": "ipython3",
      "version": "3.7.4"
    },
    "varInspector": {
      "cols": {
        "lenName": 16,
        "lenType": 16,
        "lenVar": 40
      },
      "kernels_config": {
        "python": {
          "delete_cmd_postfix": "",
          "delete_cmd_prefix": "del ",
          "library": "var_list.py",
          "varRefreshCmd": "print(var_dic_list())"
        },
        "r": {
          "delete_cmd_postfix": ") ",
          "delete_cmd_prefix": "rm(",
          "library": "var_list.r",
          "varRefreshCmd": "cat(var_dic_list()) "
        }
      },
      "types_to_exclude": [
        "module",
        "function",
        "builtin_function_or_method",
        "instance",
        "_Feature"
      ],
      "window_display": false
    }
  },
  "cells": [
    {
      "cell_type": "markdown",
      "metadata": {
        "id": "oHW37FMQGdhi"
      },
      "source": [
        "<a href=\"https://colab.research.google.com/github/nurimammasri/Wooky-Numpy/blob/main/%5BAddition%5D%20Numpy%2003%20Operations.ipynb\" target=\"_parent\"><img src=\"https://colab.research.google.com/assets/colab-badge.svg\" alt=\"Open In Colab\"/></a>"
      ]
    },
    {
      "cell_type": "markdown",
      "metadata": {
        "collapsed": true,
        "id": "R-J3MqC3NMf4"
      },
      "source": [
        "# NumPy Operations"
      ]
    },
    {
      "cell_type": "markdown",
      "metadata": {
        "id": "vNJCX_Q1NMf6"
      },
      "source": [
        "---\n",
        "## Arithmetic\n",
        "\n",
        "You can easily perform array with array arithmetic, or scalar with array arithmetic. Let's see some examples:"
      ]
    },
    {
      "cell_type": "code",
      "metadata": {
        "id": "yx5yFoeyNMf7"
      },
      "source": [
        "import numpy as np\n",
        "arr = np.arange(0,10)"
      ],
      "execution_count": 1,
      "outputs": []
    },
    {
      "cell_type": "code",
      "metadata": {
        "id": "lpIATxJJNMf8",
        "colab": {
          "base_uri": "https://localhost:8080/"
        },
        "outputId": "d2917816-6c31-4384-f91e-4ffc8051788e"
      },
      "source": [
        "arr"
      ],
      "execution_count": 2,
      "outputs": [
        {
          "output_type": "execute_result",
          "data": {
            "text/plain": [
              "array([0, 1, 2, 3, 4, 5, 6, 7, 8, 9])"
            ]
          },
          "metadata": {},
          "execution_count": 2
        }
      ]
    },
    {
      "cell_type": "code",
      "metadata": {
        "id": "V4YpbprBNMf8",
        "colab": {
          "base_uri": "https://localhost:8080/"
        },
        "outputId": "de614a67-4b97-496f-8b03-2b049b926a2a"
      },
      "source": [
        "arr + arr"
      ],
      "execution_count": 3,
      "outputs": [
        {
          "output_type": "execute_result",
          "data": {
            "text/plain": [
              "array([ 0,  2,  4,  6,  8, 10, 12, 14, 16, 18])"
            ]
          },
          "metadata": {},
          "execution_count": 3
        }
      ]
    },
    {
      "cell_type": "code",
      "metadata": {
        "id": "gxjJCYokNMf8",
        "colab": {
          "base_uri": "https://localhost:8080/"
        },
        "outputId": "aca6a56e-ffe6-4f2f-8cf6-0ad69512043b"
      },
      "source": [
        "arr * arr"
      ],
      "execution_count": 4,
      "outputs": [
        {
          "output_type": "execute_result",
          "data": {
            "text/plain": [
              "array([ 0,  1,  4,  9, 16, 25, 36, 49, 64, 81])"
            ]
          },
          "metadata": {},
          "execution_count": 4
        }
      ]
    },
    {
      "cell_type": "code",
      "metadata": {
        "id": "-KUq_5Z5NMf9",
        "colab": {
          "base_uri": "https://localhost:8080/"
        },
        "outputId": "12cf774e-7f8b-4dc0-eef6-b4e495a7bd6c"
      },
      "source": [
        "arr - arr"
      ],
      "execution_count": 5,
      "outputs": [
        {
          "output_type": "execute_result",
          "data": {
            "text/plain": [
              "array([0, 0, 0, 0, 0, 0, 0, 0, 0, 0])"
            ]
          },
          "metadata": {},
          "execution_count": 5
        }
      ]
    },
    {
      "cell_type": "code",
      "metadata": {
        "id": "7fbbVME1NMf9",
        "colab": {
          "base_uri": "https://localhost:8080/"
        },
        "outputId": "45723b8c-978b-4260-d915-81705b508b87"
      },
      "source": [
        "# Warning on division by zero, but not an error!\n",
        "# Just replaced with nan\n",
        "arr/arr"
      ],
      "execution_count": 6,
      "outputs": [
        {
          "output_type": "stream",
          "name": "stderr",
          "text": [
            "/usr/local/lib/python3.7/dist-packages/ipykernel_launcher.py:3: RuntimeWarning: invalid value encountered in true_divide\n",
            "  This is separate from the ipykernel package so we can avoid doing imports until\n"
          ]
        },
        {
          "output_type": "execute_result",
          "data": {
            "text/plain": [
              "array([nan,  1.,  1.,  1.,  1.,  1.,  1.,  1.,  1.,  1.])"
            ]
          },
          "metadata": {},
          "execution_count": 6
        }
      ]
    },
    {
      "cell_type": "code",
      "metadata": {
        "id": "FfGTKQsyNMf-",
        "colab": {
          "base_uri": "https://localhost:8080/"
        },
        "outputId": "e5845651-c63b-44e8-f7e5-e9aecfcea927"
      },
      "source": [
        "# Also warning, but not an error instead infinity\n",
        "1/arr"
      ],
      "execution_count": 7,
      "outputs": [
        {
          "output_type": "stream",
          "name": "stderr",
          "text": [
            "/usr/local/lib/python3.7/dist-packages/ipykernel_launcher.py:2: RuntimeWarning: divide by zero encountered in true_divide\n",
            "  \n"
          ]
        },
        {
          "output_type": "execute_result",
          "data": {
            "text/plain": [
              "array([       inf, 1.        , 0.5       , 0.33333333, 0.25      ,\n",
              "       0.2       , 0.16666667, 0.14285714, 0.125     , 0.11111111])"
            ]
          },
          "metadata": {},
          "execution_count": 7
        }
      ]
    },
    {
      "cell_type": "code",
      "metadata": {
        "id": "ovPf-PapNMf-",
        "colab": {
          "base_uri": "https://localhost:8080/"
        },
        "outputId": "18c8109e-7394-4261-c9f2-98063fd8c2a3"
      },
      "source": [
        "arr**3"
      ],
      "execution_count": 8,
      "outputs": [
        {
          "output_type": "execute_result",
          "data": {
            "text/plain": [
              "array([  0,   1,   8,  27,  64, 125, 216, 343, 512, 729])"
            ]
          },
          "metadata": {},
          "execution_count": 8
        }
      ]
    },
    {
      "cell_type": "markdown",
      "metadata": {
        "id": "z2PslSVNAkUK"
      },
      "source": [
        "---\n",
        "\n",
        "## Summary statistics\n",
        "- Measure of central tendency\n",
        "- Measure of variability"
      ]
    },
    {
      "cell_type": "code",
      "metadata": {
        "id": "HtdRSmazAkUL"
      },
      "source": [
        "a = np.array([1, 2, 3, 4])"
      ],
      "execution_count": 9,
      "outputs": []
    },
    {
      "cell_type": "code",
      "metadata": {
        "id": "fRTJa42OAkUL",
        "colab": {
          "base_uri": "https://localhost:8080/"
        },
        "outputId": "5a7b63e7-16c4-4a3b-f77d-353c8908b8a2"
      },
      "source": [
        "a.sum()"
      ],
      "execution_count": 10,
      "outputs": [
        {
          "output_type": "execute_result",
          "data": {
            "text/plain": [
              "10"
            ]
          },
          "metadata": {},
          "execution_count": 10
        }
      ]
    },
    {
      "cell_type": "code",
      "metadata": {
        "id": "i8mqW2ebAkUM",
        "colab": {
          "base_uri": "https://localhost:8080/"
        },
        "outputId": "7e041dfd-3411-428f-9259-668c56667388"
      },
      "source": [
        "a.mean()"
      ],
      "execution_count": 11,
      "outputs": [
        {
          "output_type": "execute_result",
          "data": {
            "text/plain": [
              "2.5"
            ]
          },
          "metadata": {},
          "execution_count": 11
        }
      ]
    },
    {
      "cell_type": "code",
      "metadata": {
        "id": "CjjgijiTAkUM",
        "colab": {
          "base_uri": "https://localhost:8080/"
        },
        "outputId": "82c15c0b-a87a-4fb6-c3cf-5a3b435c2ee3"
      },
      "source": [
        "a.std()"
      ],
      "execution_count": 12,
      "outputs": [
        {
          "output_type": "execute_result",
          "data": {
            "text/plain": [
              "1.118033988749895"
            ]
          },
          "metadata": {},
          "execution_count": 12
        }
      ]
    },
    {
      "cell_type": "code",
      "metadata": {
        "id": "RMFMfulwAkUN",
        "colab": {
          "base_uri": "https://localhost:8080/"
        },
        "outputId": "834d17b6-c189-44ff-b49d-bd6f9d90286e"
      },
      "source": [
        "a.var()"
      ],
      "execution_count": 13,
      "outputs": [
        {
          "output_type": "execute_result",
          "data": {
            "text/plain": [
              "1.25"
            ]
          },
          "metadata": {},
          "execution_count": 13
        }
      ]
    },
    {
      "cell_type": "code",
      "metadata": {
        "id": "LXvKmQnVAkUN"
      },
      "source": [
        "A = np.array([\n",
        "    [1, 2, 3],\n",
        "    [4, 5, 6],\n",
        "    [7, 8, 9]\n",
        "])"
      ],
      "execution_count": 14,
      "outputs": []
    },
    {
      "cell_type": "code",
      "metadata": {
        "id": "Fx-TFk8OAkUN",
        "colab": {
          "base_uri": "https://localhost:8080/"
        },
        "outputId": "1c2e3b72-2f49-4cda-a935-7f01ee459610"
      },
      "source": [
        "A.sum()"
      ],
      "execution_count": 15,
      "outputs": [
        {
          "output_type": "execute_result",
          "data": {
            "text/plain": [
              "45"
            ]
          },
          "metadata": {},
          "execution_count": 15
        }
      ]
    },
    {
      "cell_type": "code",
      "metadata": {
        "id": "3tCs7gQuAkUO",
        "colab": {
          "base_uri": "https://localhost:8080/"
        },
        "outputId": "f06e2f77-30ef-481f-f017-f21d39264ff7"
      },
      "source": [
        "A.mean()"
      ],
      "execution_count": 16,
      "outputs": [
        {
          "output_type": "execute_result",
          "data": {
            "text/plain": [
              "5.0"
            ]
          },
          "metadata": {},
          "execution_count": 16
        }
      ]
    },
    {
      "cell_type": "code",
      "metadata": {
        "id": "VzsP-mObAkUO",
        "colab": {
          "base_uri": "https://localhost:8080/"
        },
        "outputId": "0ea0f031-e87a-4241-a33f-954530de4bea"
      },
      "source": [
        "A.std()"
      ],
      "execution_count": 17,
      "outputs": [
        {
          "output_type": "execute_result",
          "data": {
            "text/plain": [
              "2.581988897471611"
            ]
          },
          "metadata": {},
          "execution_count": 17
        }
      ]
    },
    {
      "cell_type": "code",
      "metadata": {
        "id": "3VYfHoBVAkUO",
        "colab": {
          "base_uri": "https://localhost:8080/"
        },
        "outputId": "95762749-5ba1-4641-dfa6-a231c895fe90"
      },
      "source": [
        "A.sum(axis=0)"
      ],
      "execution_count": 18,
      "outputs": [
        {
          "output_type": "execute_result",
          "data": {
            "text/plain": [
              "array([12, 15, 18])"
            ]
          },
          "metadata": {},
          "execution_count": 18
        }
      ]
    },
    {
      "cell_type": "code",
      "metadata": {
        "id": "FWgGw63_AkUP",
        "colab": {
          "base_uri": "https://localhost:8080/"
        },
        "outputId": "0078ad8c-ffda-42f9-e639-63e0f09d494f"
      },
      "source": [
        "A.sum(axis=1)"
      ],
      "execution_count": 19,
      "outputs": [
        {
          "output_type": "execute_result",
          "data": {
            "text/plain": [
              "array([ 6, 15, 24])"
            ]
          },
          "metadata": {},
          "execution_count": 19
        }
      ]
    },
    {
      "cell_type": "code",
      "metadata": {
        "scrolled": true,
        "id": "CxkLqrnwAkUP",
        "colab": {
          "base_uri": "https://localhost:8080/"
        },
        "outputId": "cca49f5f-22c2-4bd3-eb0e-5189e99815f7"
      },
      "source": [
        "A.mean(axis=0)"
      ],
      "execution_count": 20,
      "outputs": [
        {
          "output_type": "execute_result",
          "data": {
            "text/plain": [
              "array([4., 5., 6.])"
            ]
          },
          "metadata": {},
          "execution_count": 20
        }
      ]
    },
    {
      "cell_type": "code",
      "metadata": {
        "id": "4ZKTk38aAkUP",
        "colab": {
          "base_uri": "https://localhost:8080/"
        },
        "outputId": "e03da623-b10f-490d-b380-64a5efe69480"
      },
      "source": [
        "A.mean(axis=1)"
      ],
      "execution_count": 21,
      "outputs": [
        {
          "output_type": "execute_result",
          "data": {
            "text/plain": [
              "array([2., 5., 8.])"
            ]
          },
          "metadata": {},
          "execution_count": 21
        }
      ]
    },
    {
      "cell_type": "code",
      "metadata": {
        "id": "ZCX-LuCEAkUQ",
        "colab": {
          "base_uri": "https://localhost:8080/"
        },
        "outputId": "687ff206-56c7-4d0e-8bb3-d407c18465cb"
      },
      "source": [
        "A.std(axis=0)"
      ],
      "execution_count": 22,
      "outputs": [
        {
          "output_type": "execute_result",
          "data": {
            "text/plain": [
              "array([2.44948974, 2.44948974, 2.44948974])"
            ]
          },
          "metadata": {},
          "execution_count": 22
        }
      ]
    },
    {
      "cell_type": "code",
      "metadata": {
        "scrolled": true,
        "id": "Zd_2TFSuAkUQ",
        "colab": {
          "base_uri": "https://localhost:8080/"
        },
        "outputId": "e0d426b3-443d-4d62-9cbe-35a88da40394"
      },
      "source": [
        "A.std(axis=1)"
      ],
      "execution_count": 23,
      "outputs": [
        {
          "output_type": "execute_result",
          "data": {
            "text/plain": [
              "array([0.81649658, 0.81649658, 0.81649658])"
            ]
          },
          "metadata": {},
          "execution_count": 23
        }
      ]
    },
    {
      "cell_type": "markdown",
      "metadata": {
        "id": "B2159aQ8AkUQ"
      },
      "source": [
        "And [many more](https://docs.scipy.org/doc/numpy-1.13.0/reference/arrays.ndarray.html#array-methods)..."
      ]
    },
    {
      "cell_type": "markdown",
      "metadata": {
        "id": "U5TGMIFeAkUR"
      },
      "source": [
        "---\n",
        "\n",
        "## Linear Algebra"
      ]
    },
    {
      "cell_type": "code",
      "metadata": {
        "id": "_-ekq3BOAkUR"
      },
      "source": [
        "A = np.array([\n",
        "    [1, 2, 3],\n",
        "    [4, 5, 6],\n",
        "    [7, 8, 9]\n",
        "])"
      ],
      "execution_count": 24,
      "outputs": []
    },
    {
      "cell_type": "code",
      "metadata": {
        "id": "TO0zlkfDAkUR"
      },
      "source": [
        "B = np.array([\n",
        "    [6, 5],\n",
        "    [4, 3],\n",
        "    [2, 1]\n",
        "])"
      ],
      "execution_count": 25,
      "outputs": []
    },
    {
      "cell_type": "code",
      "metadata": {
        "id": "zRpRhWR4AkUS",
        "colab": {
          "base_uri": "https://localhost:8080/"
        },
        "outputId": "e1625aa3-59c8-41d7-9207-313523b5df63"
      },
      "source": [
        "A.dot(B)"
      ],
      "execution_count": 26,
      "outputs": [
        {
          "output_type": "execute_result",
          "data": {
            "text/plain": [
              "array([[20, 14],\n",
              "       [56, 41],\n",
              "       [92, 68]])"
            ]
          },
          "metadata": {},
          "execution_count": 26
        }
      ]
    },
    {
      "cell_type": "code",
      "metadata": {
        "id": "ZJOqS1V9AkUS",
        "colab": {
          "base_uri": "https://localhost:8080/"
        },
        "outputId": "ea7378e2-cd10-45a1-fdbd-0bb4d542ca58"
      },
      "source": [
        "A @ B"
      ],
      "execution_count": 27,
      "outputs": [
        {
          "output_type": "execute_result",
          "data": {
            "text/plain": [
              "array([[20, 14],\n",
              "       [56, 41],\n",
              "       [92, 68]])"
            ]
          },
          "metadata": {},
          "execution_count": 27
        }
      ]
    },
    {
      "cell_type": "code",
      "metadata": {
        "id": "TmOWVeC5AkUS",
        "colab": {
          "base_uri": "https://localhost:8080/"
        },
        "outputId": "73c7babe-19a2-4a4d-d07a-3ac07ffa200f"
      },
      "source": [
        "B.T"
      ],
      "execution_count": 28,
      "outputs": [
        {
          "output_type": "execute_result",
          "data": {
            "text/plain": [
              "array([[6, 4, 2],\n",
              "       [5, 3, 1]])"
            ]
          },
          "metadata": {},
          "execution_count": 28
        }
      ]
    },
    {
      "cell_type": "code",
      "metadata": {
        "scrolled": true,
        "id": "6PMYfpBjAkUT",
        "colab": {
          "base_uri": "https://localhost:8080/"
        },
        "outputId": "414063fe-811a-4293-af24-3b7755299d5b"
      },
      "source": [
        "A"
      ],
      "execution_count": 29,
      "outputs": [
        {
          "output_type": "execute_result",
          "data": {
            "text/plain": [
              "array([[1, 2, 3],\n",
              "       [4, 5, 6],\n",
              "       [7, 8, 9]])"
            ]
          },
          "metadata": {},
          "execution_count": 29
        }
      ]
    },
    {
      "cell_type": "code",
      "metadata": {
        "scrolled": true,
        "id": "rZYBB02UAkUT",
        "colab": {
          "base_uri": "https://localhost:8080/"
        },
        "outputId": "8219e5bc-4cdc-4d24-a7aa-d440a39ce768"
      },
      "source": [
        "B.T @ A"
      ],
      "execution_count": 30,
      "outputs": [
        {
          "output_type": "execute_result",
          "data": {
            "text/plain": [
              "array([[36, 48, 60],\n",
              "       [24, 33, 42]])"
            ]
          },
          "metadata": {},
          "execution_count": 30
        }
      ]
    },
    {
      "cell_type": "markdown",
      "metadata": {
        "id": "Ri_kwIykNMf_"
      },
      "source": [
        "---\n",
        "## Universal Array Functions\n",
        "\n",
        "Numpy comes with many [universal array functions](http://docs.scipy.org/doc/numpy/reference/ufuncs.html), which are essentially just mathematical operations you can use to perform the operation across the array. Let's show some common ones:"
      ]
    },
    {
      "cell_type": "code",
      "metadata": {
        "id": "CWgT3jnMNMf_",
        "colab": {
          "base_uri": "https://localhost:8080/"
        },
        "outputId": "090404c9-ea84-43dc-c8a1-c910bbcd9d0b"
      },
      "source": [
        "#Taking Square Roots\n",
        "np.sqrt(arr)"
      ],
      "execution_count": 31,
      "outputs": [
        {
          "output_type": "execute_result",
          "data": {
            "text/plain": [
              "array([0.        , 1.        , 1.41421356, 1.73205081, 2.        ,\n",
              "       2.23606798, 2.44948974, 2.64575131, 2.82842712, 3.        ])"
            ]
          },
          "metadata": {},
          "execution_count": 31
        }
      ]
    },
    {
      "cell_type": "code",
      "metadata": {
        "id": "vJcSyorFNMf_",
        "colab": {
          "base_uri": "https://localhost:8080/"
        },
        "outputId": "d951c27c-7dd9-41e3-e425-bf1530361f92"
      },
      "source": [
        "#Calcualting exponential (e^)\n",
        "np.exp(arr)"
      ],
      "execution_count": 32,
      "outputs": [
        {
          "output_type": "execute_result",
          "data": {
            "text/plain": [
              "array([1.00000000e+00, 2.71828183e+00, 7.38905610e+00, 2.00855369e+01,\n",
              "       5.45981500e+01, 1.48413159e+02, 4.03428793e+02, 1.09663316e+03,\n",
              "       2.98095799e+03, 8.10308393e+03])"
            ]
          },
          "metadata": {},
          "execution_count": 32
        }
      ]
    },
    {
      "cell_type": "code",
      "metadata": {
        "id": "vAp5WHIRNMgA",
        "colab": {
          "base_uri": "https://localhost:8080/"
        },
        "outputId": "a95cc291-b1a8-4392-cf0f-5fbab627a820"
      },
      "source": [
        "np.max(arr) #same as arr.max()"
      ],
      "execution_count": 33,
      "outputs": [
        {
          "output_type": "execute_result",
          "data": {
            "text/plain": [
              "9"
            ]
          },
          "metadata": {},
          "execution_count": 33
        }
      ]
    },
    {
      "cell_type": "code",
      "metadata": {
        "id": "hnc4sBQMNMgA",
        "colab": {
          "base_uri": "https://localhost:8080/"
        },
        "outputId": "35cb13e6-3c61-4561-e1af-9ef940d91cd5"
      },
      "source": [
        "np.sin(arr)"
      ],
      "execution_count": 34,
      "outputs": [
        {
          "output_type": "execute_result",
          "data": {
            "text/plain": [
              "array([ 0.        ,  0.84147098,  0.90929743,  0.14112001, -0.7568025 ,\n",
              "       -0.95892427, -0.2794155 ,  0.6569866 ,  0.98935825,  0.41211849])"
            ]
          },
          "metadata": {},
          "execution_count": 34
        }
      ]
    },
    {
      "cell_type": "code",
      "metadata": {
        "id": "TLCpZAdlNMgB",
        "colab": {
          "base_uri": "https://localhost:8080/"
        },
        "outputId": "2cdd2f7f-5ece-4799-9af9-4fa40949d064"
      },
      "source": [
        "np.log(arr)"
      ],
      "execution_count": 35,
      "outputs": [
        {
          "output_type": "stream",
          "name": "stderr",
          "text": [
            "/usr/local/lib/python3.7/dist-packages/ipykernel_launcher.py:1: RuntimeWarning: divide by zero encountered in log\n",
            "  \"\"\"Entry point for launching an IPython kernel.\n"
          ]
        },
        {
          "output_type": "execute_result",
          "data": {
            "text/plain": [
              "array([      -inf, 0.        , 0.69314718, 1.09861229, 1.38629436,\n",
              "       1.60943791, 1.79175947, 1.94591015, 2.07944154, 2.19722458])"
            ]
          },
          "metadata": {},
          "execution_count": 35
        }
      ]
    },
    {
      "cell_type": "code",
      "metadata": {
        "id": "NlJSS9GuNMgB"
      },
      "source": [
        ""
      ],
      "execution_count": 35,
      "outputs": []
    }
  ]
}